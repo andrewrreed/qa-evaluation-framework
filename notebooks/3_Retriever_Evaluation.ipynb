{
 "cells": [
  {
   "cell_type": "code",
   "execution_count": 59,
   "metadata": {},
   "outputs": [
    {
     "name": "stdout",
     "output_type": "stream",
     "text": [
      "The autoreload extension is already loaded. To reload it, use:\n",
      "  %reload_ext autoreload\n"
     ]
    }
   ],
   "source": [
    "%load_ext autoreload\n",
    "%autoreload 2\n",
    "\n",
    "import sys\n",
    "import os\n",
    "import re\n",
    "import pandas as pd\n",
    "from tqdm.notebook import tqdm\n",
    "from elasticsearch import Elasticsearch\n",
    "\n",
    "module_path = os.path.dirname(os.getcwd())\n",
    "if module_path not in sys.path:\n",
    "    sys.path.append(module_path)\n",
    "\n",
    "from utils.data_utils import load_pkl_file\n",
    "from utils.elastic_utils import connect_es, create_es_index, load_es_index"
   ]
  },
  {
   "cell_type": "markdown",
   "metadata": {},
   "source": [
    "## Connect to Local ElasticSearch Instance"
   ]
  },
  {
   "cell_type": "code",
   "execution_count": 44,
   "metadata": {},
   "outputs": [],
   "source": [
    "local_config = [{'host': 'localhost', 'port': 9200}]\n",
    "es = Elasticsearch(local_config)"
   ]
  },
  {
   "cell_type": "code",
   "execution_count": 45,
   "metadata": {},
   "outputs": [
    {
     "data": {
      "text/plain": [
       "True"
      ]
     },
     "execution_count": 45,
     "metadata": {},
     "output_type": "execute_result"
    }
   ],
   "source": [
    "es.ping()"
   ]
  },
  {
   "cell_type": "markdown",
   "metadata": {},
   "source": [
    "## Evaluate a Baseline"
   ]
  },
  {
   "cell_type": "markdown",
   "metadata": {},
   "source": [
    "#### Load baseline data"
   ]
  },
  {
   "cell_type": "code",
   "execution_count": 16,
   "metadata": {},
   "outputs": [],
   "source": [
    "# load data\n",
    "evidence_corpus = load_pkl_file('../data/eval_data/evidence_corpus.pkl')\n",
    "qa_records = load_pkl_file('../data/eval_data/qa_records.pkl')"
   ]
  },
  {
   "cell_type": "code",
   "execution_count": 23,
   "metadata": {},
   "outputs": [
    {
     "data": {
      "text/plain": [
       "(40971, 87407)"
      ]
     },
     "execution_count": 23,
     "metadata": {},
     "output_type": "execute_result"
    }
   ],
   "source": [
    "len(evidence_corpus), len(qa_records)"
   ]
  },
  {
   "cell_type": "code",
   "execution_count": 21,
   "metadata": {
    "scrolled": true
   },
   "outputs": [
    {
     "data": {
      "text/plain": [
       "{'document_title': 'List_of_Premier_League_broadcasters',\n",
       " 'document_url': 'https://en.wikipedia.org//w/index.php?title=List_of_Premier_League_broadcasters&amp;oldid=808611916',\n",
       " 'document_text_clean': \"List of Premier League broadcasters - wikipedia  List of Premier League broadcasters  Jump to : navigation , search  This is a list of television broadcasters which provide coverage of the Premier League , English football 's top level competition , which is the most watched league in the world . The main broadcasters in the United Kingdom are Sky Sports , who broadcast 126 of the 168 televised games in the UK , and BT Sport . The BBC shows weekly highlights of the Premier League on its Match of the Day and Match of the Day 2 programmes on Saturdays and Sundays .   The 168 UK televised games are also broadcast across the world ; the remaining 212 matches that are n't broadcast live in the UK are all broadcast elsewhere around the world . English - speaking countries ( excluding the UK ) are able to carry what is known as the ' International feed ' or ' World feed ' audio ; this is full match commentary provided by the Premier League . In Asia , and select other countries around the world , there is also a fully produced studio broadcast where pre , half time and post-match analysis is offered . This is currently hosted by John Dykes .   The 3 : 00pm ( UK time ) Saturday kick - offs are not allowed to be shown live in the UK due to the hours of 2.45 pm - 5.15 pm being ' blocked broadcasting hours ' , as requested by the FA and enforced by UEFA . In Ireland , a different situation applies ; a package of only one Saturday 3 : 00pm kick off each week ( along with one game on the final Sunday ) is sold as an addition to the UK live rights packages , this package is currently held by Sky Sports . While there is no rule prohibiting the screening of the other 3 : 00pm games in Ireland , the Premier League does not make the rights to these games available to Irish broadcasters , due to the overlap in reception that is possible in Northern Ireland and mainland England and not 's total match completely absolute live in total all interviews season the paradox that total matches live other will only be seen on streaming sites of he Premier League TV .     Contents  ( hide )   1 Broadcasters   1.1 Broadcasters by region   1.1. 1 African broadcasters   1.1. 2 Asian broadcasters   1.1. 3 European broadcasters   1.1. 4 Latin American broadcasters   1.1. 5 Middle Eastern and North African broadcasters   1.1. 6 North American and Caribbean broadcasters   1.1. 7 Oceanian broadcasters       2 References   3 External links      Broadcasters ( edit )   These are the countries and channels that broadcast the Premier League for 2016 - 19 :   Broadcasters by region ( edit )  African broadcasters ( edit )      Language   Broadcaster     Sub-saharan Africa   English French   Supersport Kwesé Sports Canal+    Asian broadcasters ( edit )    Country   Language   Broadcasters     Afghanistan   Afghan   Ariana TV     Bhutan   English   STAR Sports     India     Maldives     Nepal     Sri Lanka     Bangladesh   English   STAR Sports Gazi TV     Pakistan   English   STAR Sports PTV Sports     China ( mainland )   Mandarin   CCTV CSPN BTV SMG SZMG GDTV GZTV CBG SDTV XJTV TJTV FMG DLTV JSBC ZZTV HBTV Tencent LeSports PPTV Super Sports     Hong Kong   English Cantonese   now TV LeSports     Indonesia   English Indonesian   beIN Sports RCTI MNCTV     Japan   Japanese   J Sports NHK Sportsnavi     Kazakhstan   Kazakh   Setanta Sports     Kyrgyzstan   Kyrgyz   KTRK Sport     Macau   English Cantonese Portuguese   Super Sports     Mongolia   Mongolian   Sansar HD SPS Premier Sports Channel     South Korea   English Korean   SBS Sports SPOTV     Malaysia & Brunei   English Malay & Cantonese   Astro     Myanmar   English Burmese   Sky Net     Philippines   English Tagalog   beIN Sports     Singapore   English   Singtel TV     Taiwan   Mandarin English   Eleven Sports     Thailand , Laos & Cambodia   Thai English   beIN Sports PPTV     Tajikistan   Tajik   Varzish TV Football TV     Uzbekistan   Uzbek   UZ Report TV Futbol TV     Vietnam   Vietnamese English   K+ TTTV , BDTV ( VTVCab ) FPT Telecom    European broadcasters ( edit )    Country   Language   Broadcasters     Albania   Albanian   SuperSport     Kosovo     Serbia   Serbian Croatian Macedonian Slovenian   Sport Klub     Croatia     Bosnia and Herzegovina     Montenegro     Macedonia     Slovenia     Andorra   Spanish   Movistar+     Armenia   Armenian   Armenia 2     Austria   German   DAZN     Azerbaijan   Azerbaijani   AzTV     Belarus   Belarusian   Beltelradio     Belgium   Dutch French   Play Sports VOO Sport     Bulgaria   Bulgarian   Diema Sport     Cyprus   Greek   CytaVision     Czech Republic   Czech   Digi Sport     Denmark   Danish   TV3 Sport 6'eren     Estonia   Estonian   Viasat Sport Baltic     Finland   Finnish   Viasat Sport     France   French   SFR Sport     Georgia   Georgian   Silknet     Germany   German   DAZN     Greece   Greek   Cosmote Sport     Hungary   Hungarian   Spíler TV     Iceland   Icelandic   Stöð 2 Sport     Ireland   English   Sky Sports BT Sport     Italy   Italian   SKY Sport     Latvia   Latvian   Viasat Sport Baltic     Liechtenstein   German   DAZN     Lithuania   Lithuanian   Viasat Sport Baltic     Luxembourg   French   VOO Sport     Malta   English   GO Sports     Netherlands   Dutch   Ziggo Sport Totaal     Norway   English / Norwegian   TV2     Poland   Polish   NC+     Portugal   Portuguese   Sport TV     Romania   Romanian   Eurosport 1 Telekom Sport     Russia   Russian   Match TV     San Marino   Italian   SKY Sport     Slovakia   Czech   Digi Sport     Spain   Spanish   Movistar+     Sweden   Swedish   Viasat Sport     Switzerland   German French   DAZN SFR Sport     Turkey   Turkish   S Sport     Ukraine   Ukrainian   Football TV Сhannel     United Kingdom   English   Sky Sports BT Sport BBC Sport ( Highlights only )    Latin American broadcasters ( edit )    Country   Language   Broadcasters     Brazil   Portuguese   ESPN Brasil     Argentina   Spanish   DirecTV Sports ESPN     Chile     Colombia     Ecuador     Peru     Uruguay     Venezuela     Bolivia   Spanish   ESPN ( 3 matches )     Paraguay     Costa Rica   Spanish   SKY Sports     Dominican Republic     El Salvador     Guatemala     Honduras     Mexico     Nicaragua     Panama    Middle Eastern and North African broadcasters ( edit )    Country   Language   Broadcasters     Israel   Hebrew   Sport 1     Middle East and North Africa   Arabic English French   beIN Sports    North American and Caribbean broadcasters ( edit )    Country   Language   Broadcasters     Canada   English   TSN Sportsnet     Caribbean   English   Flow Sports     United States ( including Puerto Rico & the U.S. Virgin Islands )   English Spanish   NBC Sports Network Telemundo    Oceanian broadcasters ( edit )    Country   Language   Broadcasters     Australia   English   Optus Sport SBS     New Zealand   English   beIN Sports     Pacific Islands   English   Sky Pacific     Papua New Guinea   English   Digicel Play     References ( edit )    Jump up ^ `` Who is the Premier League 's best ? '' . FIFA. 11 December 2007 . Retrieved 7 April 2011 .   Jump up ^ `` BT Sport '' . Premier League . Retrieved 29 July 2013 .   Jump up ^ `` BBC Sport '' . Premier League . Retrieved 29 July 2013 .   Jump up ^ http://www.uefa.com/news/newsid=19817.html   Jump up ^ `` Premier League international rights deals for 2016 - 19 '' . Premier League . Retrieved 15 May 2016 .    External links ( edit )    Premier League official website              Broadcasters in European Football ( UEFA )     Domestic leagues     Albania   Andorra   Armenia   Austria   Azerbaijan   Belarus   Belgium   Bosnia and Herzegovina   Bulgaria   Croatia   Cyprus   Czech Republic   Denmark   England   Estonia   Faroe Islands   Finland   France   Georgia   Germany   Greece   Hungary   Iceland   Israel   Italy   Kosovo   Kazakhstan   Latvia   Lithuania   Luxembourg   Macedonia   Malta   Moldova   Montenegro   Netherlands   Northern Ireland   Norway   Poland   Portugal   Republic of Ireland   Romania   Russia   San Marino   Scotland   Serbia   Slovakia   Slovenia   Spain   Sweden   Switzerland   Turkey   Ukraine   Wales       Domestic cups     Albania   Andorra   Armenia   Austria   Azerbaijan   Belarus   Belgium   Bosnia and Herzegovina   Bulgaria   Croatia   Cyprus   Czech Republic   Denmark   England   Estonia   Faroe Islands   Finland   France   Georgia   Germany   Greece   Hungary   Iceland   Israel   Italy   Kazakhstan   Latvia   Liechtenstein   Lithuania   Luxembourg   Macedonia   Malta   Moldova   Montenegro   Netherlands   Northern Ireland   Norway   Poland   Portugal   Republic of Ireland   Romania   Russia   San Marino   Scotland   Serbia   Slovakia   Slovenia   Spain   Sweden   Switzerland   Turkey   Ukraine   Wales       League Cups     England   Finland   France   Hungary   Iceland   Israel   Northern Ireland   Portugal   Republic of Ireland   Scotland   Wales       UEFA competitions     Champions League   Europa League   Super Cup                 Premier League     Seasons     1992 -- 93   1993 -- 94   1994 -- 95   1995 -- 96   1996 -- 97   1997 -- 98   1998 -- 99   1999 -- 2000   2000 -- 01   2001 -- 02   2002 -- 03   2003 -- 04   2004 -- 05   2005 -- 06   2006 -- 07   2007 -- 08   2008 -- 09   2009 -- 10   2010 -- 11   2011 -- 12   2012 -- 13   2013 -- 14   2014 -- 15   2015 -- 16   2016 -- 17   2017 -- 18       Clubs      2017 -- 18     AFC Bournemouth   Arsenal   Brighton & Hove Albion   Burnley   Chelsea   Crystal Palace   Everton   Huddersfield Town   Leicester City   Liverpool   Manchester City   Manchester United   Newcastle United   Southampton   Stoke City   Swansea City   Tottenham Hotspur   Watford   West Bromwich Albion   West Ham United       Former     Aston Villa   Barnsley   Birmingham City   Blackburn Rovers   Blackpool   Bolton Wanderers   Bradford City   Cardiff City   Charlton Athletic   Coventry City   Derby County   Fulham   Hull City   Ipswich Town   Leeds United   Middlesbrough   Norwich City   Nottingham Forest   Oldham Athletic   Portsmouth   Queens Park Rangers   Reading   Sheffield United   Sheffield Wednesday   Sunderland   Swindon Town   Wigan Athletic   Wimbledon   Wolverhampton Wanderers          Competition     Teams   winners     Players   foreign   foreign scorers   winners     Managers       Stadia   Founding   Broadcasting foundation   Broadcasters   Referees       Statistics and awards     Records   All - time table   Hat - tricks   Highest scores   Golden Boot   Golden Glove   Manager of the Season   Player of the Season   Manager of the Month   Player of the Month   Goal of the Month   Players with 500 + appearances   Players with 100 + goals   Top scorers by season   Goalkeepers with 100 + clean sheets   10 Seasons Awards   20 Seasons Awards       Finances     Richest clubs :   Deloitte list   Forbes ' list     Team owners   Transfer records   Game 39   Premier League -- Football League gulf       Associated competitions     Asia Trophy   FA Community Shield   FA Cup   EFL Cup   UEFA Champions League   UEFA Europa League   Premier League 2   U18 Premier League   Premier League International Cup                         Association football on television     Broadcasters by top level league      Americas     Superliga Argentina ( Argentina )   Campeonato Brasileiro Série A ( Brazil )   Major League Soccer ( MLS Cup ) ( United States / Canada )   Liga MX ( Mexico )       Europe     Armenian Premier League ( Armenia )   Belgian Pro League ( Belgium )   Bundesliga ( Germany )   Ekstraklasa ( Poland )   Eredivisie ( Netherlands )   Czech First League ( Czech Republic )   La Liga ( Spain )   Liga I ( Romania )   Ligue 1 ( France )   Nemzeti Bajnokság I ( Hungary )   Premier League ( England )   Primeira Liga ( Portugal )   Russian Premier League ( Russia )   Scottish Premiership ( Scotland )   Serie A ( Italy )   Vala SuperLiga ( Kosovo )   Slovenian PrvaLiga ( Slovenia )   Super League Greece ( Greece )   Ukrainian Premier League ( Ukraine )       Other     Ligue 1 ( Algeria )   A-League ( Australia )   Thai League ( Thailand )          Broadcast contracts by country      Americas     Canada ( history )   United States   Central America   South America   Brazil       Asia     Japan   Middle East   Philippines   Thailand       Europe     Albania   Denmark   Belgium   Bosnia and Herzegovina   Croatia   France   Germany   Greece   Ireland   Israel   Italy   Kosovo   Montenegro   Netherlands   Portugal   Romania   Russia   Serbia   Spain   Sweden   United Kingdom ( commentators , history )       Oceania     Australia   New Zealand          Broadcasters by event      Americas     Copa Libertadores       Europe     UEFA Champions League   UEFA Europa League       FIFA World Cup     1998   2002   2006     2014   2018       UEFA Euro     2000     2008   2012   2016   2020          Dedicated channels      Canada     beIN Sports   EuroWorld Sport   Fox Sports World Canada   Sportsnet World       France     beIN Sports   Canal+ Sport   SFR Sports 1   OM TV   OL TV   Girondins TV       Italy     Premium Calcio   Sky Calcio   Inter Channel   Juventus Channel   Milan Channel       Spain     beIN Sports   beIN LaLiga   M. Fútbol   M. Partidazo   Real Madrid TV   Barça TV       United Kingdom     Sky Sports 1   BT Sport 1   Arsenal TV   Celtic TV   Chelsea TV   LFC TV   MUTV   Rangers TV       United States     beIN Sports   Fox Soccer Plus   GOL TV   MLS Direct Kick     ESPN Deportes   Fox Deportes   Univision Deportes Network          Individual network coverage      A-League     Fox Sports FC   Shoot Out   Thursday FC   The World Game       Bundesliga     Soccer Made in Germany       Major League Soccer     ESPN   MLS Game of the Week   MLS Primetime Thursday   MLS Soccer Saturday   MLS Soccer Sunday     Fox Soccer   NBCSN   TSN       Ligue 1     Téléfoot       Premier League     Monday Night Football   Super Sunday   Match of the Day   Match of the Day 2   The Premier League Show   Match of the Day ( U.S. TV series )   The Premiership   Soccer Central Matchday         Retrieved from `` https://en.wikipedia.org/w/index.php?title=List_of_Premier_League_broadcasters&oldid=808611916 '' Categories :   Premier League on television   Premier League lists   Association football on television   Hidden categories :   EngvarB from May 2014   Use dmy dates from May 2014           Talk                                           Contents                   About Wikipedia                                           Bahasa Indonesia   Edit links   This page was last edited on 3 November 2017 , at 23 : 38 .   Text is available under the Creative Commons Attribution - ShareAlike License ; additional terms may apply . By using this site , you agree to the Terms of Use and Privacy Policy . Wikipedia ® is a registered trademark of the Wikimedia Foundation , Inc. , a non-profit organization .       About Wikipedia                    \"}"
      ]
     },
     "execution_count": 21,
     "metadata": {},
     "output_type": "execute_result"
    }
   ],
   "source": [
    "evidence_corpus[3]"
   ]
  },
  {
   "cell_type": "code",
   "execution_count": 22,
   "metadata": {},
   "outputs": [
    {
     "data": {
      "text/plain": [
       "{'example_id': -1706790511507651062,\n",
       " 'document_title': 'List_of_Premier_League_broadcasters',\n",
       " 'document_url': 'https://en.wikipedia.org//w/index.php?title=List_of_Premier_League_broadcasters&amp;oldid=808611916',\n",
       " 'question_text': 'what channel is the premier league on in france',\n",
       " 'short_answer': 'SFR Sport'}"
      ]
     },
     "execution_count": 22,
     "metadata": {},
     "output_type": "execute_result"
    }
   ],
   "source": [
    "qa_records[3]"
   ]
  },
  {
   "cell_type": "markdown",
   "metadata": {},
   "source": [
    "#### Create the index"
   ]
  },
  {
   "cell_type": "code",
   "execution_count": 43,
   "metadata": {},
   "outputs": [],
   "source": [
    "# create index\n",
    "\n",
    "index_name = 'baseline'\n",
    "\n",
    "settings = {\n",
    "    \"mappings\": {\n",
    "        \"dynamic\": \"strict\",        \n",
    "        \"properties\": {\n",
    "            \"document_title\": {\"type\": \"text\"},\n",
    "            \"document_url\": {\"type\": \"text\"},\n",
    "            \"document_text_clean\": {\"type\": \"text\"}\n",
    "            }\n",
    "        }\n",
    "    }\n",
    "\n",
    "\n",
    "create_es_index(es_obj=es, \n",
    "                settings=settings, \n",
    "                index_name=index_name)"
   ]
  },
  {
   "cell_type": "code",
   "execution_count": 46,
   "metadata": {},
   "outputs": [
    {
     "data": {
      "text/plain": [
       "{'baseline': {'aliases': {}},\n",
       " 'nq_wiki_data_test': {'aliases': {}},\n",
       " 'nq_wiki_data': {'aliases': {}},\n",
       " 'cases': {'aliases': {}}}"
      ]
     },
     "execution_count": 46,
     "metadata": {},
     "output_type": "execute_result"
    }
   ],
   "source": [
    "es.indices.get_alias('*')"
   ]
  },
  {
   "cell_type": "markdown",
   "metadata": {},
   "source": [
    "#### Populate index with baseline records"
   ]
  },
  {
   "cell_type": "code",
   "execution_count": 49,
   "metadata": {},
   "outputs": [
    {
     "name": "stderr",
     "output_type": "stream",
     "text": [
      "100%|██████████| 40971/40971 [12:06<00:00, 56.40it/s]  \n"
     ]
    }
   ],
   "source": [
    "load_es_index(es_obj=es, \n",
    "              index_name=index_name,\n",
    "              evidence_corpus=evidence_corpus)"
   ]
  },
  {
   "cell_type": "code",
   "execution_count": 50,
   "metadata": {},
   "outputs": [
    {
     "data": {
      "text/plain": [
       "40971"
      ]
     },
     "execution_count": 50,
     "metadata": {},
     "output_type": "execute_result"
    }
   ],
   "source": [
    "es.count(index=index_name)['count']"
   ]
  },
  {
   "cell_type": "markdown",
   "metadata": {},
   "source": [
    "#### Evaluate Recall"
   ]
  },
  {
   "cell_type": "code",
   "execution_count": 66,
   "metadata": {
    "code_folding": []
   },
   "outputs": [],
   "source": [
    "def analyze_retriever_recall(es_obj, index_name, qa_data):\n",
    "    \n",
    "    results = []\n",
    "    \n",
    "    for i, qa in enumerate(tqdm(qa_data)):\n",
    "        \n",
    "        question = qa['question_text']\n",
    "        answer = qa['short_answer']\n",
    "        ex_id = qa['example_id']\n",
    "        truth_url = qa['document_url']\n",
    "        \n",
    "        # construct query\n",
    "        query = {\n",
    "            'query': {\n",
    "                'query_string': {\n",
    "                    'query': re.sub('[^A-Za-z0-9]+', ' ', question),\n",
    "                    'default_field': 'document_text_clean'\n",
    "                    }\n",
    "                }\n",
    "            }\n",
    "        \n",
    "        # execute query\n",
    "        res = es_obj.search(index=index_name, body=query, size=5)\n",
    "        \n",
    "        # extract response info\n",
    "        n_hits = res['hits']['total']['value']\n",
    "        max_score = res['hits']['max_score']\n",
    "        duration = res['took']\n",
    "        \n",
    "        # check if answer is present in results\n",
    "        ans_in_res = int(any([answer.lower() in doc['_source']['document_text_clean'].lower() for doc in res['hits']['hits']]))\n",
    "        \n",
    "#         ans_in_res = int(any([truth_url == doc['_source']['document_url'] for doc in res['hits']['hits']]))\n",
    "        \n",
    "        \n",
    "        rec = (ex_id, question, answer, n_hits, max_score, duration, ans_in_res)\n",
    "        results.append(rec)\n",
    "    \n",
    "    # format results\n",
    "    cols = ['example_id', 'question', 'answer', 'number_records_returned', 'max_score', 'query_duration', 'answer_present']\n",
    "    test_results_df = pd.DataFrame(results, columns=cols)\n",
    "        \n",
    "    return test_results_df\n",
    "\n"
   ]
  },
  {
   "cell_type": "code",
   "execution_count": 67,
   "metadata": {},
   "outputs": [
    {
     "data": {
      "application/vnd.jupyter.widget-view+json": {
       "model_id": "40b57d2da7b64caa9e304d1b4b36fdd3",
       "version_major": 2,
       "version_minor": 0
      },
      "text/plain": [
       "HBox(children=(FloatProgress(value=0.0, max=87407.0), HTML(value='')))"
      ]
     },
     "metadata": {},
     "output_type": "display_data"
    },
    {
     "name": "stdout",
     "output_type": "stream",
     "text": [
      "\n"
     ]
    }
   ],
   "source": [
    "baseline_results_df = analyze_retriever_recall(es_obj=es,\n",
    "                                               index_name=index_name,\n",
    "                                               qa_data=qa_records)"
   ]
  },
  {
   "cell_type": "code",
   "execution_count": 68,
   "metadata": {},
   "outputs": [
    {
     "data": {
      "text/html": [
       "<div>\n",
       "<style scoped>\n",
       "    .dataframe tbody tr th:only-of-type {\n",
       "        vertical-align: middle;\n",
       "    }\n",
       "\n",
       "    .dataframe tbody tr th {\n",
       "        vertical-align: top;\n",
       "    }\n",
       "\n",
       "    .dataframe thead th {\n",
       "        text-align: right;\n",
       "    }\n",
       "</style>\n",
       "<table border=\"1\" class=\"dataframe\">\n",
       "  <thead>\n",
       "    <tr style=\"text-align: right;\">\n",
       "      <th></th>\n",
       "      <th>example_id</th>\n",
       "      <th>question</th>\n",
       "      <th>answer</th>\n",
       "      <th>number_records_returned</th>\n",
       "      <th>max_score</th>\n",
       "      <th>query_duration</th>\n",
       "      <th>answer_present</th>\n",
       "    </tr>\n",
       "  </thead>\n",
       "  <tbody>\n",
       "    <tr>\n",
       "      <th>0</th>\n",
       "      <td>5328212470870865242</td>\n",
       "      <td>how i.met your mother who is the mother</td>\n",
       "      <td>Tracy McConnell</td>\n",
       "      <td>10000</td>\n",
       "      <td>14.747690</td>\n",
       "      <td>15</td>\n",
       "      <td>1</td>\n",
       "    </tr>\n",
       "    <tr>\n",
       "      <th>1</th>\n",
       "      <td>5289242154789678439</td>\n",
       "      <td>who had the most wins in the nfl</td>\n",
       "      <td>Tom Brady</td>\n",
       "      <td>10000</td>\n",
       "      <td>12.293189</td>\n",
       "      <td>12</td>\n",
       "      <td>1</td>\n",
       "    </tr>\n",
       "    <tr>\n",
       "      <th>2</th>\n",
       "      <td>-2500044561429484630</td>\n",
       "      <td>who played mantis guardians of the galaxy 2</td>\n",
       "      <td>Pom Klementieff</td>\n",
       "      <td>10000</td>\n",
       "      <td>28.207392</td>\n",
       "      <td>9</td>\n",
       "      <td>1</td>\n",
       "    </tr>\n",
       "    <tr>\n",
       "      <th>3</th>\n",
       "      <td>-1706790511507651062</td>\n",
       "      <td>what channel is the premier league on in france</td>\n",
       "      <td>SFR Sport</td>\n",
       "      <td>10000</td>\n",
       "      <td>17.241780</td>\n",
       "      <td>8</td>\n",
       "      <td>1</td>\n",
       "    </tr>\n",
       "    <tr>\n",
       "      <th>4</th>\n",
       "      <td>-7491001389340565191</td>\n",
       "      <td>god's not dead a light in the darkness release...</td>\n",
       "      <td>March 30 , 2018</td>\n",
       "      <td>10000</td>\n",
       "      <td>19.870369</td>\n",
       "      <td>9</td>\n",
       "      <td>1</td>\n",
       "    </tr>\n",
       "  </tbody>\n",
       "</table>\n",
       "</div>"
      ],
      "text/plain": [
       "            example_id                                           question  \\\n",
       "0  5328212470870865242            how i.met your mother who is the mother   \n",
       "1  5289242154789678439                   who had the most wins in the nfl   \n",
       "2 -2500044561429484630        who played mantis guardians of the galaxy 2   \n",
       "3 -1706790511507651062    what channel is the premier league on in france   \n",
       "4 -7491001389340565191  god's not dead a light in the darkness release...   \n",
       "\n",
       "            answer  number_records_returned  max_score  query_duration  \\\n",
       "0  Tracy McConnell                    10000  14.747690              15   \n",
       "1        Tom Brady                    10000  12.293189              12   \n",
       "2  Pom Klementieff                    10000  28.207392               9   \n",
       "3        SFR Sport                    10000  17.241780               8   \n",
       "4  March 30 , 2018                    10000  19.870369               9   \n",
       "\n",
       "   answer_present  \n",
       "0               1  \n",
       "1               1  \n",
       "2               1  \n",
       "3               1  \n",
       "4               1  "
      ]
     },
     "execution_count": 68,
     "metadata": {},
     "output_type": "execute_result"
    }
   ],
   "source": [
    "baseline_results_df.head()"
   ]
  },
  {
   "cell_type": "code",
   "execution_count": 69,
   "metadata": {},
   "outputs": [
    {
     "data": {
      "text/plain": [
       "1    0.844623\n",
       "0    0.155377\n",
       "Name: answer_present, dtype: float64"
      ]
     },
     "execution_count": 69,
     "metadata": {},
     "output_type": "execute_result"
    }
   ],
   "source": [
    "baseline_results_df.answer_present.value_counts(normalize=True)"
   ]
  },
  {
   "cell_type": "markdown",
   "metadata": {},
   "source": [
    "**84.5% Recall is pretty good (BERTserini got 85.8 at paragraph level). Is this driven by:**\n",
    "- Only 40k documents to search over\n",
    "- Full article is being used (not paragraphs or passages)\n",
    "- These wikipedia articles contain the full text, tables included... I dont think BERTserini included all the extra HTML data which will be necessary for NQ"
   ]
  },
  {
   "cell_type": "code",
   "execution_count": 77,
   "metadata": {},
   "outputs": [
    {
     "name": "stdout",
     "output_type": "stream",
     "text": [
      "hello/my/name/is/andrew\n"
     ]
    }
   ],
   "source": [
    "print(f'hello/my/name/{\"\"}is/andrew')"
   ]
  },
  {
   "cell_type": "code",
   "execution_count": 83,
   "metadata": {},
   "outputs": [],
   "source": [
    "retriever_eval_only = False"
   ]
  },
  {
   "cell_type": "code",
   "execution_count": 84,
   "metadata": {},
   "outputs": [],
   "source": [
    "if not retriever_eval_only:\n",
    "    ext = \"\"\n",
    "else:\n",
    "    ext = \"_fullsys\"\n",
    "\n",
    "outfile = f'../data/stage_data/extracted_clean_data{ext}.pkl' ## TO-DO: Make this implicit!   "
   ]
  },
  {
   "cell_type": "code",
   "execution_count": 85,
   "metadata": {},
   "outputs": [
    {
     "data": {
      "text/plain": [
       "'../data/stage_data/extracted_clean_data.pkl'"
      ]
     },
     "execution_count": 85,
     "metadata": {},
     "output_type": "execute_result"
    }
   ],
   "source": [
    "outfile"
   ]
  },
  {
   "cell_type": "code",
   "execution_count": 87,
   "metadata": {},
   "outputs": [],
   "source": [
    "x = 5 if 3>2 else 9"
   ]
  },
  {
   "cell_type": "code",
   "execution_count": 95,
   "metadata": {},
   "outputs": [
    {
     "name": "stdout",
     "output_type": "stream",
     "text": [
      "/Users/areed/Documents/FFL Research/FF14/qa_retriever_evaluation/notebooks\r\n"
     ]
    }
   ],
   "source": [
    "!pwd"
   ]
  },
  {
   "cell_type": "code",
   "execution_count": 99,
   "metadata": {},
   "outputs": [
    {
     "data": {
      "text/plain": [
       "True"
      ]
     },
     "execution_count": 99,
     "metadata": {},
     "output_type": "execute_result"
    }
   ],
   "source": [
    "os.path.exists('/Users/areed/Documents/FFL Research/FF14/qa_retriever_evaluation/')"
   ]
  },
  {
   "cell_type": "code",
   "execution_count": 90,
   "metadata": {},
   "outputs": [],
   "source": [
    " a = \"x\" if not retriever_eval_only else \"_fullsys\""
   ]
  },
  {
   "cell_type": "code",
   "execution_count": 93,
   "metadata": {},
   "outputs": [
    {
     "data": {
      "text/plain": [
       "False"
      ]
     },
     "execution_count": 93,
     "metadata": {},
     "output_type": "execute_result"
    }
   ],
   "source": [
    "bool(0)"
   ]
  },
  {
   "cell_type": "markdown",
   "metadata": {},
   "source": [
    "## Next Steps - where to focus?"
   ]
  },
  {
   "cell_type": "markdown",
   "metadata": {},
   "source": [
    "**Planned Experiments: to evaluate recall**\n",
    "1. Chunking articles into passages of different lengths/approaches (expected drop in recall)\n",
    "    - 100 tokens\n",
    "    - 366 BERT tokens\n",
    "    - Consideration: these articles include table/list data from wikipedia... chunks will be nonsensical??\n",
    "2. Experiment with different forms of query expansion/enrichnment (expected to improve recall)\n",
    "    - NER to extract things/people/organizaions and pass to query as an entity rather than multiple words\n",
    "    - abbreviation expansion \n",
    "    - non-entity synonym enrichment\n",
    "3. Maybe - getting full wikipedia extract to work with since we only have 40k unique articles...\n",
    "\n",
    "**Concerns / Considerations / Next Steps:**\n",
    "- only 40k unique articles\n",
    "- There's nothing to baseline against, other than myself... need to look further for BM-25 performance on NQ evaluated by recall\n",
    "- Qualitative analysis on caselaw data: train n-gram language model?\n",
    "- Put NQ together with BERT to understand end-to-end system performance?\n",
    "\n",
    "\n",
    "\n",
    "**What next: How does this fit in to the next blog post + the overall effort (paper/webinar)?**\n",
    "- I think we ultimately want to try to show that small enhancements to a simple Retriever approach can [hopefully] have significant impact on end-to-end QA system on NQ (but this requires us to get all of Wikipedia + train BERT on NQ). I think this *might* be do-able considering ORQA only used short answers from BERT. So the heavy lifts would be:\n",
    "    - Setting up Wikipedia search (which I think is doable)\n",
    "    - Training BERT on NQ (short answers only) - not sure LOE here\n",
    "    - Evaluating the end-to-end system - not sure the LOE here\n",
    "    \n",
    "- Do we focus away from open-domain QA and more towards case-law?\n",
    "    - Qualitative analysis showing improvements in end to end system based solely on query enrichment\n",
    "\n",
    "\n",
    "**Similar work**\n",
    "- https://sigir.org/wp-content/uploads/2019/01/p040.pdf\n"
   ]
  }
 ],
 "metadata": {
  "kernelspec": {
   "display_name": "Python 3",
   "language": "python",
   "name": "python3"
  },
  "language_info": {
   "codemirror_mode": {
    "name": "ipython",
    "version": 3
   },
   "file_extension": ".py",
   "mimetype": "text/x-python",
   "name": "python",
   "nbconvert_exporter": "python",
   "pygments_lexer": "ipython3",
   "version": "3.8.3"
  }
 },
 "nbformat": 4,
 "nbformat_minor": 4
}
