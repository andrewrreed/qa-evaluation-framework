{
 "cells": [
  {
   "cell_type": "markdown",
   "metadata": {},
   "source": [
    "# Natural Questions - Data Preparation for Retriever Evaluation"
   ]
  },
  {
   "cell_type": "code",
   "execution_count": 2,
   "metadata": {},
   "outputs": [],
   "source": [
    "import json\n",
    "import sys\n",
    "import re\n",
    "import pickle\n",
    "from collections import defaultdict\n",
    "from tqdm.notebook import tqdm"
   ]
  },
  {
   "cell_type": "markdown",
   "metadata": {},
   "source": [
    "### Load Data"
   ]
  },
  {
   "cell_type": "code",
   "execution_count": 3,
   "metadata": {},
   "outputs": [
    {
     "data": {
      "application/vnd.jupyter.widget-view+json": {
       "model_id": "6781622d1ced4a12a71e532e7f089b3a",
       "version_major": 2,
       "version_minor": 0
      },
      "text/plain": [
       "HBox(children=(FloatProgress(value=1.0, bar_style='info', max=1.0), HTML(value='')))"
      ]
     },
     "metadata": {},
     "output_type": "display_data"
    },
    {
     "name": "stdout",
     "output_type": "stream",
     "text": [
      "\n"
     ]
    }
   ],
   "source": [
    "jsonfilename = \"../data/v1.0-simplified_simplified-nq-train.jsonl\"\n",
    "\n",
    "data = []\n",
    "with open(jsonfilename, 'rb') as f:\n",
    "    for line in tqdm(f):\n",
    "        data.append(json.loads(line.decode('utf-8')))"
   ]
  },
  {
   "cell_type": "markdown",
   "metadata": {},
   "source": [
    "### Filter Short Answers"
   ]
  },
  {
   "cell_type": "markdown",
   "metadata": {},
   "source": [
    "**In order to properly evaluate the retriever portion of an end-to-end QA system, we will make use of *short answer questions* only.**"
   ]
  },
  {
   "cell_type": "code",
   "execution_count": 4,
   "metadata": {},
   "outputs": [],
   "source": [
    "def separate_short_answer_only(data):\n",
    "    '''\n",
    "    This function loops through all of the NQ simplified records and returns the subset\n",
    "    of them that do have short answers.\n",
    "    \n",
    "    Args:\n",
    "        data (list) - a list of jsonl records from NQ simplified dataset\n",
    "        \n",
    "    Returns:\n",
    "        short_data (list) - a list of jsonl records\n",
    "    \n",
    "    '''\n",
    "    \n",
    "    short_data = []\n",
    "    \n",
    "    for i, rec in enumerate(tqdm(data)):\n",
    "        \n",
    "        if len(rec['annotations'][0]['short_answers']) > 0:\n",
    "            short_data.append(rec)\n",
    "            \n",
    "    return short_data\n"
   ]
  },
  {
   "cell_type": "code",
   "execution_count": 5,
   "metadata": {},
   "outputs": [
    {
     "data": {
      "application/vnd.jupyter.widget-view+json": {
       "model_id": "e1f17c3739084173b676b4af2f6d15e8",
       "version_major": 2,
       "version_minor": 0
      },
      "text/plain": [
       "HBox(children=(FloatProgress(value=0.0, max=307373.0), HTML(value='')))"
      ]
     },
     "metadata": {},
     "output_type": "display_data"
    },
    {
     "name": "stdout",
     "output_type": "stream",
     "text": [
      "\n"
     ]
    }
   ],
   "source": [
    "# filter out records that don't have at least one short answer\n",
    "short_data = separate_short_answer_only(data)"
   ]
  },
  {
   "cell_type": "code",
   "execution_count": 10,
   "metadata": {
    "collapsed": true
   },
   "outputs": [
    {
     "ename": "NameError",
     "evalue": "name 'data' is not defined",
     "output_type": "error",
     "traceback": [
      "\u001b[0;31m---------------------------------------------------------------------------\u001b[0m",
      "\u001b[0;31mNameError\u001b[0m                                 Traceback (most recent call last)",
      "\u001b[0;32m<ipython-input-10-e8261f4c07db>\u001b[0m in \u001b[0;36m<module>\u001b[0;34m\u001b[0m\n\u001b[1;32m      2\u001b[0m \u001b[0;31m# https://storage.googleapis.com/pub-tools-public-publication-data/pdf/1f7b46b5378d757553d3e92ead36bda2e4254244.pdf\u001b[0m\u001b[0;34m\u001b[0m\u001b[0;34m\u001b[0m\u001b[0;34m\u001b[0m\u001b[0m\n\u001b[1;32m      3\u001b[0m \u001b[0;34m\u001b[0m\u001b[0m\n\u001b[0;32m----> 4\u001b[0;31m \u001b[0mprint\u001b[0m\u001b[0;34m(\u001b[0m\u001b[0;34mf'{len(short_data)} out of {len(data)} (or {round(len(short_data)/len(data),3)}) NQ questions contain at least one short answer.'\u001b[0m\u001b[0;34m)\u001b[0m\u001b[0;34m\u001b[0m\u001b[0;34m\u001b[0m\u001b[0m\n\u001b[0m",
      "\u001b[0;31mNameError\u001b[0m: name 'data' is not defined"
     ]
    }
   ],
   "source": [
    "# this is validated in the paper: \n",
    "# https://storage.googleapis.com/pub-tools-public-publication-data/pdf/1f7b46b5378d757553d3e92ead36bda2e4254244.pdf\n",
    "\n",
    "print(f'{len(short_data)} out of {len(data)} (or {round(len(short_data)/len(data),3)}) NQ questions contain at least one short answer.')\n"
   ]
  },
  {
   "cell_type": "code",
   "execution_count": 7,
   "metadata": {},
   "outputs": [],
   "source": [
    "# drop full data from memory\n",
    "del data"
   ]
  },
  {
   "cell_type": "markdown",
   "metadata": {},
   "source": [
    "### Reduce Mulitple Short Answers in Single Annotation"
   ]
  },
  {
   "cell_type": "markdown",
   "metadata": {},
   "source": [
    "For some NQ questions, an annotation will contain multiple short_answers. [Google's reference implementation](https://github.com/google-research/language/blob/master/language/question_answering/decatt_docreader/preprocessing/create_nq_short_pipeline_examples.py) (line 62) suggests that during training, they only utilize the first answer. For our purposes of evaluating the retriever, we will do the same."
   ]
  },
  {
   "cell_type": "code",
   "execution_count": 11,
   "metadata": {},
   "outputs": [],
   "source": [
    "def remove_multiple_short_answers(data):\n",
    "    '''\n",
    "    This function loops through a list of NQ simplified records and for any record that contains multiple\n",
    "    short answers for a given annotation, drops all short answers except for the first one.\n",
    "    \n",
    "    Args:\n",
    "        data (list) - a list of jsonl records from NQ simplified dataset\n",
    "        \n",
    "    Returns:\n",
    "        dedup_data (list) - a list of jsonl records with multiple short answers removed\n",
    "    \n",
    "    '''\n",
    "    \n",
    "    dedup_data = []\n",
    "    num_effected = 0\n",
    "    \n",
    "    for i, rec in enumerate(tqdm(data)):\n",
    "        \n",
    "        if len(rec['annotations'][0]['short_answers']) > 1:\n",
    "            \n",
    "            num_effected += 1\n",
    "            \n",
    "            # extract first dict and keep as one-element list\n",
    "            temp = []\n",
    "            short_ans = rec['annotations'][0]['short_answers'][0]\n",
    "            temp.append(short_ans)\n",
    "            \n",
    "            # overwrite\n",
    "            rec['annotations'][0]['short_answers'] = temp\n",
    "            \n",
    "            dedup_data.append(rec)\n",
    "        \n",
    "        else:\n",
    "            dedup_data.append(rec)\n",
    "            \n",
    "    print(f'{num_effected} out of {len(data)} questions had multiple short answers that were effected.')\n",
    "            \n",
    "    return dedup_data\n",
    "    "
   ]
  },
  {
   "cell_type": "code",
   "execution_count": 12,
   "metadata": {},
   "outputs": [
    {
     "data": {
      "application/vnd.jupyter.widget-view+json": {
       "model_id": "ada87cf7c60142d1adbb9a02d46ac063",
       "version_major": 2,
       "version_minor": 0
      },
      "text/plain": [
       "HBox(children=(FloatProgress(value=0.0, max=106926.0), HTML(value='')))"
      ]
     },
     "metadata": {},
     "output_type": "display_data"
    },
    {
     "name": "stdout",
     "output_type": "stream",
     "text": [
      "\n",
      "10427 out of 106926 questions had multiple short answers that were effected.\n"
     ]
    }
   ],
   "source": [
    "# drop multiple short answers\n",
    "dedup_data = remove_multiple_short_answers(short_data)"
   ]
  },
  {
   "cell_type": "code",
   "execution_count": 14,
   "metadata": {},
   "outputs": [],
   "source": [
    "del short_data"
   ]
  },
  {
   "cell_type": "markdown",
   "metadata": {},
   "source": [
    "### Extract & Clean Data Needed for Retriever Evaluation"
   ]
  },
  {
   "cell_type": "markdown",
   "metadata": {},
   "source": [
    "**For the purposes of evaluating retriever performance, the data items we will need are:**\n",
    "- question_text\n",
    "- document_text (cleaned by removing all HTML tags)\n",
    "- short_answer (from annotations)\n",
    "- example_id\n",
    "- document_url\n",
    "\n",
    "**While the \"simplified\" version of NQ does clean a vast majority of the HTML content from the Wikipedia page, the \"document_text\" field does still contain several types of HTML tags that are used for long_answer span identification.**\n",
    "\n",
    "Namely, those tags are:\n",
    "- Heading tags\n",
    "- Table tags\n",
    "- Table row tags\n",
    "- List tags\n",
    "\n",
    "**For simplicity, we will use regex to remove any elements contained inside angle brackets like this `<any_text_here>`**"
   ]
  },
  {
   "cell_type": "code",
   "execution_count": 34,
   "metadata": {},
   "outputs": [],
   "source": [
    "def get_short_answer_from_span(example):\n",
    "    '''\n",
    "    Use the short answer span from a NQ json record to retreive\n",
    "    and return the corresponding short answer text.\n",
    "    \n",
    "    Args:\n",
    "        example - a jsonl record from NQ simplified dataset\n",
    "        \n",
    "    Returns:\n",
    "        ans (string) - the string representation of text in the short answer span\n",
    "    \n",
    "    '''\n",
    "    \n",
    "    short_answer_span = example['annotations'][0]['short_answers'][0]\n",
    "    \n",
    "    short_answer = \" \".join(example['document_text'].split(\" \")\\\n",
    "                            [short_answer_span['start_token']:short_answer_span['end_token']])\n",
    "    \n",
    "    return short_answer\n",
    "\n",
    "\n",
    "def clean_document_text(text):\n",
    "    '''\n",
    "    This function applies a regular expression to an input text string to remove\n",
    "    any characters wrapped in <> with the goal of stripping HTML tags from a string.\n",
    "    \n",
    "    Args:\n",
    "        text (string)\n",
    "        \n",
    "    Returns:\n",
    "        text (string) - cleaned text\n",
    "    \n",
    "    '''\n",
    "    \n",
    "    cleaner = re.compile('<.*?>')\n",
    "    \n",
    "    return re.sub(cleaner, '', text)\n",
    "    \n",
    "    \n",
    "def extract_data(data):\n",
    "    '''\n",
    "    This function loops through a list of NQ simplified records and extracts only the data items\n",
    "    needed for retriever evaluation as described above.\n",
    "    \n",
    "    Args:\n",
    "        data (list) - a list of jsonl records from NQ simplified dataset\n",
    "        \n",
    "    Returns:\n",
    "        extracted_data (list) - a list of jsonl records\n",
    "    \n",
    "    '''\n",
    "    \n",
    "    extracted_data = []\n",
    "    \n",
    "    for i, rec in enumerate(tqdm(data)):\n",
    "        \n",
    "        example_id = rec['example_id']\n",
    "        document_url = rec['document_url']\n",
    "        question_text = rec['question_text']\n",
    "        short_answer = get_short_answer_from_span(rec)\n",
    "        document_text_clean = clean_document_text(rec['document_text'])\n",
    "        \n",
    "        # to ensure our dataset is completely solvable\n",
    "        # this logic weeds out erroneous labeling activity\n",
    "        # ex. 'Mickey Hart </Li> <Li> Bill Kreutzmann </Li> <Li> John Mayer </Li> was selected as long AND short answer\n",
    "        # when really each of these should have been their own short answers\n",
    "        if short_answer not in document_text_clean:\n",
    "            continue\n",
    "        \n",
    "        new_rec = {'example_id': example_id,\n",
    "                   'document_url': document_url,\n",
    "                   'question_text': question_text,\n",
    "                   'short_answer': short_answer,\n",
    "                   'document_text_clean': document_text_clean}\n",
    "        \n",
    "        extracted_data.append(new_rec)\n",
    "        \n",
    "    print(f'{len(extracted_data)} of the {len(data)} records are complete and solvable.')\n",
    "    \n",
    "    return extracted_data\n",
    "    "
   ]
  },
  {
   "cell_type": "code",
   "execution_count": 35,
   "metadata": {},
   "outputs": [
    {
     "data": {
      "application/vnd.jupyter.widget-view+json": {
       "model_id": "22d011bdf5a04156a701e9b095130d34",
       "version_major": 2,
       "version_minor": 0
      },
      "text/plain": [
       "HBox(children=(FloatProgress(value=0.0, max=106926.0), HTML(value='')))"
      ]
     },
     "metadata": {},
     "output_type": "display_data"
    },
    {
     "name": "stdout",
     "output_type": "stream",
     "text": [
      "\n",
      "106848 of the 106926 records are complete and solvable.\n"
     ]
    }
   ],
   "source": [
    "# extract data needed for retriever\n",
    "extracted_data = extract_data(dedup_data)"
   ]
  },
  {
   "cell_type": "markdown",
   "metadata": {},
   "source": [
    "#### Save data object "
   ]
  },
  {
   "cell_type": "code",
   "execution_count": 48,
   "metadata": {},
   "outputs": [],
   "source": [
    "file_path = '../data/eval_data/'\n",
    "file_name = 'extracted_data_records.pkl'\n",
    "\n",
    "with open(file_path+file_name, 'wb') as f:\n",
    "    \n",
    "    pickle.dump(extracted_data, f)"
   ]
  },
  {
   "cell_type": "markdown",
   "metadata": {},
   "source": [
    "#### Load data object"
   ]
  },
  {
   "cell_type": "code",
   "execution_count": 5,
   "metadata": {},
   "outputs": [],
   "source": [
    "file_path = '../data/eval_data/'\n",
    "file_name = 'extracted_data_records.pkl'\n",
    "\n",
    "with open(file_path+file_name, 'rb') as f:\n",
    "    \n",
    "    extracted_data = pickle.load(f)"
   ]
  },
  {
   "cell_type": "markdown",
   "metadata": {},
   "source": [
    "### Format QA Data For Evaluation"
   ]
  },
  {
   "cell_type": "markdown",
   "metadata": {},
   "source": [
    "**For evaluating the retriever performance, we can subset records to exclude the document text**"
   ]
  },
  {
   "cell_type": "code",
   "execution_count": 18,
   "metadata": {},
   "outputs": [],
   "source": [
    "def remove_doc_text_field(extracted_data):\n",
    "    '''\n",
    "    This function loops through the extracted_data list and removes the document_text_clean field\n",
    "    from each record\n",
    "    \n",
    "    Args:\n",
    "        extracted_data (list) \n",
    "        \n",
    "    Returns:\n",
    "        slim_data (list)\n",
    "    '''\n",
    "    \n",
    "    slim_data = []\n",
    "    \n",
    "    for i, rec in enumerate(tqdm(extracted_data)):\n",
    "        \n",
    "        new_rec = {k:v for k,v in rec.items() if k != 'document_text_clean'}\n",
    "        slim_data.append(new_rec)\n",
    "        \n",
    "    return slim_data\n"
   ]
  },
  {
   "cell_type": "code",
   "execution_count": 19,
   "metadata": {},
   "outputs": [
    {
     "data": {
      "application/vnd.jupyter.widget-view+json": {
       "model_id": "e0341e4829f648568152aebc28465b44",
       "version_major": 2,
       "version_minor": 0
      },
      "text/plain": [
       "HBox(children=(FloatProgress(value=0.0, max=106848.0), HTML(value='')))"
      ]
     },
     "metadata": {},
     "output_type": "display_data"
    },
    {
     "name": "stdout",
     "output_type": "stream",
     "text": [
      "\n"
     ]
    }
   ],
   "source": [
    "slim_data = remove_doc_text_field(extracted_data)"
   ]
  },
  {
   "cell_type": "markdown",
   "metadata": {},
   "source": [
    "#### Save data object"
   ]
  },
  {
   "cell_type": "code",
   "execution_count": 23,
   "metadata": {},
   "outputs": [],
   "source": [
    "file_path = '../data/eval_data/'\n",
    "file_name = 'slim_extracted_data_records.pkl'\n",
    "\n",
    "with open(file_path+file_name, 'wb') as f:\n",
    "    \n",
    "    pickle.dump(slim_data, f)"
   ]
  },
  {
   "cell_type": "markdown",
   "metadata": {},
   "source": [
    "### Format Evidence Data For ElasticSearch Indexing"
   ]
  },
  {
   "cell_type": "markdown",
   "metadata": {},
   "source": [
    "**For indexing, lets get a unique set of documents and experiment with different ways of segmenting large articles into indexes**"
   ]
  },
  {
   "cell_type": "code",
   "execution_count": 24,
   "metadata": {},
   "outputs": [],
   "source": [
    "def compile_evidence_corpus(extracted_data):\n",
    "    '''\n",
    "    This function compiles all unique wikipedia documents into a dictionary\n",
    "    \n",
    "    Args:\n",
    "        extracted_data (list) \n",
    "        \n",
    "    Returns:\n",
    "        wiki_docs (dict)\n",
    "    \n",
    "    \n",
    "    '''\n",
    "    \n",
    "    wiki_docs = {}\n",
    "    \n",
    "    for i, rec in enumerate(tqdm(extracted_data)):\n",
    "        \n",
    "        if rec['document_url'] not in wiki_docs.keys():\n",
    "            \n",
    "            wiki_docs[rec['document_url']] = rec['document_text_clean']\n",
    "            \n",
    "    print(f'Of the {len(extracted_data)} records, there are {len(wiki_docs)} unique Wikipedia articles.')\n",
    "        \n",
    "    return wiki_docs\n"
   ]
  },
  {
   "cell_type": "code",
   "execution_count": 25,
   "metadata": {},
   "outputs": [
    {
     "data": {
      "application/vnd.jupyter.widget-view+json": {
       "model_id": "53d22da816b34b94b1c3003b9d848d7c",
       "version_major": 2,
       "version_minor": 0
      },
      "text/plain": [
       "HBox(children=(FloatProgress(value=0.0, max=106848.0), HTML(value='')))"
      ]
     },
     "metadata": {},
     "output_type": "display_data"
    },
    {
     "name": "stdout",
     "output_type": "stream",
     "text": [
      "\n",
      "Of the 106848 records, there are 87108 unique Wikipedia articles.\n"
     ]
    }
   ],
   "source": [
    "wiki_docs = compile_evidence_corpus(extracted_data)"
   ]
  },
  {
   "cell_type": "markdown",
   "metadata": {},
   "source": [
    "#### Save data object"
   ]
  },
  {
   "cell_type": "code",
   "execution_count": 26,
   "metadata": {},
   "outputs": [],
   "source": [
    "file_path = '../data/eval_data/'\n",
    "file_name = 'wiki_docs.pkl'\n",
    "\n",
    "with open(file_path+file_name, 'wb') as f:\n",
    "    \n",
    "    pickle.dump(wiki_docs, f)"
   ]
  },
  {
   "cell_type": "markdown",
   "metadata": {},
   "source": [
    "#### Load data object"
   ]
  },
  {
   "cell_type": "code",
   "execution_count": 3,
   "metadata": {},
   "outputs": [],
   "source": [
    "file_path = '../data/eval_data/'\n",
    "file_name = 'wiki_docs.pkl'\n",
    "\n",
    "with open(file_path+file_name, 'rb') as f:\n",
    "    \n",
    "    wiki_docs = pickle.load(f)"
   ]
  },
  {
   "cell_type": "code",
   "execution_count": 30,
   "metadata": {
    "collapsed": true
   },
   "outputs": [
    {
     "data": {
      "text/plain": [
       "\"List of Premier League broadcasters - wikipedia  List of Premier League broadcasters  Jump to : navigation , search  This is a list of television broadcasters which provide coverage of the Premier League , English football 's top level competition , which is the most watched league in the world . The main broadcasters in the United Kingdom are Sky Sports , who broadcast 126 of the 168 televised games in the UK , and BT Sport . The BBC shows weekly highlights of the Premier League on its Match of the Day and Match of the Day 2 programmes on Saturdays and Sundays .   The 168 UK televised games are also broadcast across the world ; the remaining 212 matches that are n't broadcast live in the UK are all broadcast elsewhere around the world . English - speaking countries ( excluding the UK ) are able to carry what is known as the ' International feed ' or ' World feed ' audio ; this is full match commentary provided by the Premier League . In Asia , and select other countries around the world , there is also a fully produced studio broadcast where pre , half time and post-match analysis is offered . This is currently hosted by John Dykes .   The 3 : 00pm ( UK time ) Saturday kick - offs are not allowed to be shown live in the UK due to the hours of 2.45 pm - 5.15 pm being ' blocked broadcasting hours ' , as requested by the FA and enforced by UEFA . In Ireland , a different situation applies ; a package of only one Saturday 3 : 00pm kick off each week ( along with one game on the final Sunday ) is sold as an addition to the UK live rights packages , this package is currently held by Sky Sports . While there is no rule prohibiting the screening of the other 3 : 00pm games in Ireland , the Premier League does not make the rights to these games available to Irish broadcasters , due to the overlap in reception that is possible in Northern Ireland and mainland England and not 's total match completely absolute live in total all interviews season the paradox that total matches live other will only be seen on streaming sites of he Premier League TV .     Contents  ( hide )   1 Broadcasters   1.1 Broadcasters by region   1.1. 1 African broadcasters   1.1. 2 Asian broadcasters   1.1. 3 European broadcasters   1.1. 4 Latin American broadcasters   1.1. 5 Middle Eastern and North African broadcasters   1.1. 6 North American and Caribbean broadcasters   1.1. 7 Oceanian broadcasters       2 References   3 External links      Broadcasters ( edit )   These are the countries and channels that broadcast the Premier League for 2016 - 19 :   Broadcasters by region ( edit )  African broadcasters ( edit )      Language   Broadcaster     Sub-saharan Africa   English French   Supersport Kwesé Sports Canal+    Asian broadcasters ( edit )    Country   Language   Broadcasters     Afghanistan   Afghan   Ariana TV     Bhutan   English   STAR Sports     India     Maldives     Nepal     Sri Lanka     Bangladesh   English   STAR Sports Gazi TV     Pakistan   English   STAR Sports PTV Sports     China ( mainland )   Mandarin   CCTV CSPN BTV SMG SZMG GDTV GZTV CBG SDTV XJTV TJTV FMG DLTV JSBC ZZTV HBTV Tencent LeSports PPTV Super Sports     Hong Kong   English Cantonese   now TV LeSports     Indonesia   English Indonesian   beIN Sports RCTI MNCTV     Japan   Japanese   J Sports NHK Sportsnavi     Kazakhstan   Kazakh   Setanta Sports     Kyrgyzstan   Kyrgyz   KTRK Sport     Macau   English Cantonese Portuguese   Super Sports     Mongolia   Mongolian   Sansar HD SPS Premier Sports Channel     South Korea   English Korean   SBS Sports SPOTV     Malaysia & Brunei   English Malay & Cantonese   Astro     Myanmar   English Burmese   Sky Net     Philippines   English Tagalog   beIN Sports     Singapore   English   Singtel TV     Taiwan   Mandarin English   Eleven Sports     Thailand , Laos & Cambodia   Thai English   beIN Sports PPTV     Tajikistan   Tajik   Varzish TV Football TV     Uzbekistan   Uzbek   UZ Report TV Futbol TV     Vietnam   Vietnamese English   K+ TTTV , BDTV ( VTVCab ) FPT Telecom    European broadcasters ( edit )    Country   Language   Broadcasters     Albania   Albanian   SuperSport     Kosovo     Serbia   Serbian Croatian Macedonian Slovenian   Sport Klub     Croatia     Bosnia and Herzegovina     Montenegro     Macedonia     Slovenia     Andorra   Spanish   Movistar+     Armenia   Armenian   Armenia 2     Austria   German   DAZN     Azerbaijan   Azerbaijani   AzTV     Belarus   Belarusian   Beltelradio     Belgium   Dutch French   Play Sports VOO Sport     Bulgaria   Bulgarian   Diema Sport     Cyprus   Greek   CytaVision     Czech Republic   Czech   Digi Sport     Denmark   Danish   TV3 Sport 6'eren     Estonia   Estonian   Viasat Sport Baltic     Finland   Finnish   Viasat Sport     France   French   SFR Sport     Georgia   Georgian   Silknet     Germany   German   DAZN     Greece   Greek   Cosmote Sport     Hungary   Hungarian   Spíler TV     Iceland   Icelandic   Stöð 2 Sport     Ireland   English   Sky Sports BT Sport     Italy   Italian   SKY Sport     Latvia   Latvian   Viasat Sport Baltic     Liechtenstein   German   DAZN     Lithuania   Lithuanian   Viasat Sport Baltic     Luxembourg   French   VOO Sport     Malta   English   GO Sports     Netherlands   Dutch   Ziggo Sport Totaal     Norway   English / Norwegian   TV2     Poland   Polish   NC+     Portugal   Portuguese   Sport TV     Romania   Romanian   Eurosport 1 Telekom Sport     Russia   Russian   Match TV     San Marino   Italian   SKY Sport     Slovakia   Czech   Digi Sport     Spain   Spanish   Movistar+     Sweden   Swedish   Viasat Sport     Switzerland   German French   DAZN SFR Sport     Turkey   Turkish   S Sport     Ukraine   Ukrainian   Football TV Сhannel     United Kingdom   English   Sky Sports BT Sport BBC Sport ( Highlights only )    Latin American broadcasters ( edit )    Country   Language   Broadcasters     Brazil   Portuguese   ESPN Brasil     Argentina   Spanish   DirecTV Sports ESPN     Chile     Colombia     Ecuador     Peru     Uruguay     Venezuela     Bolivia   Spanish   ESPN ( 3 matches )     Paraguay     Costa Rica   Spanish   SKY Sports     Dominican Republic     El Salvador     Guatemala     Honduras     Mexico     Nicaragua     Panama    Middle Eastern and North African broadcasters ( edit )    Country   Language   Broadcasters     Israel   Hebrew   Sport 1     Middle East and North Africa   Arabic English French   beIN Sports    North American and Caribbean broadcasters ( edit )    Country   Language   Broadcasters     Canada   English   TSN Sportsnet     Caribbean   English   Flow Sports     United States ( including Puerto Rico & the U.S. Virgin Islands )   English Spanish   NBC Sports Network Telemundo    Oceanian broadcasters ( edit )    Country   Language   Broadcasters     Australia   English   Optus Sport SBS     New Zealand   English   beIN Sports     Pacific Islands   English   Sky Pacific     Papua New Guinea   English   Digicel Play     References ( edit )    Jump up ^ `` Who is the Premier League 's best ? '' . FIFA. 11 December 2007 . Retrieved 7 April 2011 .   Jump up ^ `` BT Sport '' . Premier League . Retrieved 29 July 2013 .   Jump up ^ `` BBC Sport '' . Premier League . Retrieved 29 July 2013 .   Jump up ^ http://www.uefa.com/news/newsid=19817.html   Jump up ^ `` Premier League international rights deals for 2016 - 19 '' . Premier League . Retrieved 15 May 2016 .    External links ( edit )    Premier League official website              Broadcasters in European Football ( UEFA )     Domestic leagues     Albania   Andorra   Armenia   Austria   Azerbaijan   Belarus   Belgium   Bosnia and Herzegovina   Bulgaria   Croatia   Cyprus   Czech Republic   Denmark   England   Estonia   Faroe Islands   Finland   France   Georgia   Germany   Greece   Hungary   Iceland   Israel   Italy   Kosovo   Kazakhstan   Latvia   Lithuania   Luxembourg   Macedonia   Malta   Moldova   Montenegro   Netherlands   Northern Ireland   Norway   Poland   Portugal   Republic of Ireland   Romania   Russia   San Marino   Scotland   Serbia   Slovakia   Slovenia   Spain   Sweden   Switzerland   Turkey   Ukraine   Wales       Domestic cups     Albania   Andorra   Armenia   Austria   Azerbaijan   Belarus   Belgium   Bosnia and Herzegovina   Bulgaria   Croatia   Cyprus   Czech Republic   Denmark   England   Estonia   Faroe Islands   Finland   France   Georgia   Germany   Greece   Hungary   Iceland   Israel   Italy   Kazakhstan   Latvia   Liechtenstein   Lithuania   Luxembourg   Macedonia   Malta   Moldova   Montenegro   Netherlands   Northern Ireland   Norway   Poland   Portugal   Republic of Ireland   Romania   Russia   San Marino   Scotland   Serbia   Slovakia   Slovenia   Spain   Sweden   Switzerland   Turkey   Ukraine   Wales       League Cups     England   Finland   France   Hungary   Iceland   Israel   Northern Ireland   Portugal   Republic of Ireland   Scotland   Wales       UEFA competitions     Champions League   Europa League   Super Cup                 Premier League     Seasons     1992 -- 93   1993 -- 94   1994 -- 95   1995 -- 96   1996 -- 97   1997 -- 98   1998 -- 99   1999 -- 2000   2000 -- 01   2001 -- 02   2002 -- 03   2003 -- 04   2004 -- 05   2005 -- 06   2006 -- 07   2007 -- 08   2008 -- 09   2009 -- 10   2010 -- 11   2011 -- 12   2012 -- 13   2013 -- 14   2014 -- 15   2015 -- 16   2016 -- 17   2017 -- 18       Clubs      2017 -- 18     AFC Bournemouth   Arsenal   Brighton & Hove Albion   Burnley   Chelsea   Crystal Palace   Everton   Huddersfield Town   Leicester City   Liverpool   Manchester City   Manchester United   Newcastle United   Southampton   Stoke City   Swansea City   Tottenham Hotspur   Watford   West Bromwich Albion   West Ham United       Former     Aston Villa   Barnsley   Birmingham City   Blackburn Rovers   Blackpool   Bolton Wanderers   Bradford City   Cardiff City   Charlton Athletic   Coventry City   Derby County   Fulham   Hull City   Ipswich Town   Leeds United   Middlesbrough   Norwich City   Nottingham Forest   Oldham Athletic   Portsmouth   Queens Park Rangers   Reading   Sheffield United   Sheffield Wednesday   Sunderland   Swindon Town   Wigan Athletic   Wimbledon   Wolverhampton Wanderers          Competition     Teams   winners     Players   foreign   foreign scorers   winners     Managers       Stadia   Founding   Broadcasting foundation   Broadcasters   Referees       Statistics and awards     Records   All - time table   Hat - tricks   Highest scores   Golden Boot   Golden Glove   Manager of the Season   Player of the Season   Manager of the Month   Player of the Month   Goal of the Month   Players with 500 + appearances   Players with 100 + goals   Top scorers by season   Goalkeepers with 100 + clean sheets   10 Seasons Awards   20 Seasons Awards       Finances     Richest clubs :   Deloitte list   Forbes ' list     Team owners   Transfer records   Game 39   Premier League -- Football League gulf       Associated competitions     Asia Trophy   FA Community Shield   FA Cup   EFL Cup   UEFA Champions League   UEFA Europa League   Premier League 2   U18 Premier League   Premier League International Cup                         Association football on television     Broadcasters by top level league      Americas     Superliga Argentina ( Argentina )   Campeonato Brasileiro Série A ( Brazil )   Major League Soccer ( MLS Cup ) ( United States / Canada )   Liga MX ( Mexico )       Europe     Armenian Premier League ( Armenia )   Belgian Pro League ( Belgium )   Bundesliga ( Germany )   Ekstraklasa ( Poland )   Eredivisie ( Netherlands )   Czech First League ( Czech Republic )   La Liga ( Spain )   Liga I ( Romania )   Ligue 1 ( France )   Nemzeti Bajnokság I ( Hungary )   Premier League ( England )   Primeira Liga ( Portugal )   Russian Premier League ( Russia )   Scottish Premiership ( Scotland )   Serie A ( Italy )   Vala SuperLiga ( Kosovo )   Slovenian PrvaLiga ( Slovenia )   Super League Greece ( Greece )   Ukrainian Premier League ( Ukraine )       Other     Ligue 1 ( Algeria )   A-League ( Australia )   Thai League ( Thailand )          Broadcast contracts by country      Americas     Canada ( history )   United States   Central America   South America   Brazil       Asia     Japan   Middle East   Philippines   Thailand       Europe     Albania   Denmark   Belgium   Bosnia and Herzegovina   Croatia   France   Germany   Greece   Ireland   Israel   Italy   Kosovo   Montenegro   Netherlands   Portugal   Romania   Russia   Serbia   Spain   Sweden   United Kingdom ( commentators , history )       Oceania     Australia   New Zealand          Broadcasters by event      Americas     Copa Libertadores       Europe     UEFA Champions League   UEFA Europa League       FIFA World Cup     1998   2002   2006     2014   2018       UEFA Euro     2000     2008   2012   2016   2020          Dedicated channels      Canada     beIN Sports   EuroWorld Sport   Fox Sports World Canada   Sportsnet World       France     beIN Sports   Canal+ Sport   SFR Sports 1   OM TV   OL TV   Girondins TV       Italy     Premium Calcio   Sky Calcio   Inter Channel   Juventus Channel   Milan Channel       Spain     beIN Sports   beIN LaLiga   M. Fútbol   M. Partidazo   Real Madrid TV   Barça TV       United Kingdom     Sky Sports 1   BT Sport 1   Arsenal TV   Celtic TV   Chelsea TV   LFC TV   MUTV   Rangers TV       United States     beIN Sports   Fox Soccer Plus   GOL TV   MLS Direct Kick     ESPN Deportes   Fox Deportes   Univision Deportes Network          Individual network coverage      A-League     Fox Sports FC   Shoot Out   Thursday FC   The World Game       Bundesliga     Soccer Made in Germany       Major League Soccer     ESPN   MLS Game of the Week   MLS Primetime Thursday   MLS Soccer Saturday   MLS Soccer Sunday     Fox Soccer   NBCSN   TSN       Ligue 1     Téléfoot       Premier League     Monday Night Football   Super Sunday   Match of the Day   Match of the Day 2   The Premier League Show   Match of the Day ( U.S. TV series )   The Premiership   Soccer Central Matchday         Retrieved from `` https://en.wikipedia.org/w/index.php?title=List_of_Premier_League_broadcasters&oldid=808611916 '' Categories :   Premier League on television   Premier League lists   Association football on television   Hidden categories :   EngvarB from May 2014   Use dmy dates from May 2014           Talk                                           Contents                   About Wikipedia                                           Bahasa Indonesia   Edit links   This page was last edited on 3 November 2017 , at 23 : 38 .   Text is available under the Creative Commons Attribution - ShareAlike License ; additional terms may apply . By using this site , you agree to the Terms of Use and Privacy Policy . Wikipedia ® is a registered trademark of the Wikimedia Foundation , Inc. , a non-profit organization .       About Wikipedia                    \""
      ]
     },
     "execution_count": 30,
     "metadata": {},
     "output_type": "execute_result"
    }
   ],
   "source": [
    "wiki_docs['https://en.wikipedia.org//w/index.php?title=List_of_Premier_League_broadcasters&amp;oldid=808611916']"
   ]
  },
  {
   "cell_type": "markdown",
   "metadata": {},
   "source": [
    "#### Save as JSONL"
   ]
  },
  {
   "cell_type": "code",
   "execution_count": 13,
   "metadata": {},
   "outputs": [],
   "source": [
    "def extract_wiki_title(document_url):\n",
    "    \n",
    "    pattern = 'title=(.*?)&amp'\n",
    "    \n",
    "    try:\n",
    "        title = re.search(pattern, document_url).group(1)\n",
    "    except AttributeError:\n",
    "        title = 'No Title Found'\n",
    "        \n",
    "    return title"
   ]
  },
  {
   "cell_type": "markdown",
   "metadata": {},
   "source": [
    "**Create and save unique Wikipedia articles as jsonl for elastic search to read**"
   ]
  },
  {
   "cell_type": "code",
   "execution_count": 17,
   "metadata": {},
   "outputs": [],
   "source": [
    "ES_wiki_docs_full = [{'document_url':url, 'document_title':extract_wiki_title(url), 'document_text_clean':body}\\\n",
    "                     for url, body in wiki_docs.items()]"
   ]
  },
  {
   "cell_type": "code",
   "execution_count": 24,
   "metadata": {
    "code_folding": []
   },
   "outputs": [],
   "source": [
    "file_path = '../data/eval_data/'\n",
    "file_name = 'ES_wiki_docs_full.jsonl'\n",
    "\n",
    "with open(file_path+file_name, 'w') as outfile:\n",
    "    for entry in ES_wiki_docs_full:\n",
    "        json.dump(entry, outfile)\n",
    "        outfile.write('\\n')"
   ]
  },
  {
   "cell_type": "code",
   "execution_count": 53,
   "metadata": {},
   "outputs": [
    {
     "data": {
      "application/vnd.jupyter.widget-view+json": {
       "model_id": "a7fcf4a934174a40b459b32682eefe4e",
       "version_major": 2,
       "version_minor": 0
      },
      "text/plain": [
       "HBox(children=(FloatProgress(value=1.0, bar_style='info', max=1.0), HTML(value='')))"
      ]
     },
     "metadata": {},
     "output_type": "display_data"
    },
    {
     "name": "stdout",
     "output_type": "stream",
     "text": [
      "\n"
     ]
    }
   ],
   "source": [
    "\n",
    "test = []\n",
    "with open(file_path+file_name, 'rb') as f:\n",
    "    for i, line in enumerate(tqdm(f)):\n",
    "        test.append(json.loads(line.decode('utf-8')))\n",
    "    \n",
    "        if i ==5: break\n"
   ]
  },
  {
   "cell_type": "code",
   "execution_count": 27,
   "metadata": {},
   "outputs": [
    {
     "data": {
      "text/plain": [
       "87108"
      ]
     },
     "execution_count": 27,
     "metadata": {},
     "output_type": "execute_result"
    }
   ],
   "source": [
    "len(ES_wiki_docs_full)"
   ]
  },
  {
   "cell_type": "markdown",
   "metadata": {},
   "source": [
    "## Manual check to see how many records have the short answer in the cleaned text"
   ]
  },
  {
   "cell_type": "code",
   "execution_count": 31,
   "metadata": {},
   "outputs": [
    {
     "data": {
      "text/plain": [
       "{'example_id': -341902602485554777,\n",
       " 'document_url': 'https://en.wikipedia.org//w/index.php?title=President_of_the_United_Nations_General_Assembly&amp;oldid=807429262',\n",
       " 'question_text': 'who is the current president of un general assembly',\n",
       " 'short_answer': 'Miroslav Lajčák of Slovakia',\n",
       " 'document_text_clean': \"President of the United Nations General Assembly - wikipedia  President of the United Nations General Assembly  Jump to : navigation , search    President of the United Nations General Assembly     Emblem of the United Nations     Incumbent Miroslav Lajčák     Appointer   United Nations General Assembly     Term length   1 year     Inaugural holder   Paul - Henri Spaak     Formation   1946     Website   List of Presidents of the UN General Assembly     The President of the United Nations General Assembly is a position voted for by representatives in the United Nations General Assembly ( UNGA ) on a yearly basis . The President presides over the sessions of the General Assembly .   Miroslav Lajčák of Slovakia has been elected as the United Nations General Assembly President of its 72nd session beginning in September 2017 .     Contents  ( hide )   1 Election   2 List of presidents   3 See also   4 References   5 External links      Election ( edit )  A map of the world showing the home countries of Presidents of the United Nations General Assembly up until the 69th session of the General Assembly in 2014 - 15 , with historical member states in inset .  The session of the assembly is scheduled for every year starting in September -- any special , or emergency special , assemblies over the next year will be headed by the President of the UN General Assembly .   The presidency rotates annually between the five geographic groups : African , Asia - Pacific , Eastern European , Latin American and Caribbean , and Western European and other States .   Because of their powerful stature globally , some of the largest , most powerful countries have never held the presidency , such as the People 's Republic of China , France , Japan , Russia , the United Kingdom , and the United States . In particular , it is customary that no permanent member of the United Nations Security Council ever serves as General Assembly president .   The only country that had a national elected as President of the United Nations General Assembly twice is Argentina ; all the other member states had been represented only once by their nationals holding this office . This does not include special and emergency special sessions of the General Assembly .   List of Presidents ( edit )     Year elected   Name of President   UN member state   Region   Sessions     1946   Paul - Henri Spaak   Belgium   WES   First     1947   Oswaldo Aranha   Brazil   LAS   First special Second     1948.1 ! 1948   José Arce   Argentina   LAS   Second special     1948.2 ! 1948   Herbert Vere Evatt   Australia   COS   Third     1949   Carlos P. Romulo   Philippines   EAS   Fourth     1950   Nasrollah Entezam   Iran   EAS   Fifth     1951   Luis Padilla Nervo   Mexico   LAS   Sixth     1952   Lester B. Pearson   Canada   COS   Seventh     1953   Vijaya Lakshmi Pandit   India   COS   Eighth , First woman president     1954   Eelco van Kleffens   Netherlands   WES   Ninth     1955   José Maza Fernández   Chile   LAS   Tenth     1956.1 ! 1956   Rudecindo Ortega ( de )   Chile   LAS   First emergency special Second emergency special     1956.2 ! 1956   Wan Waithayakon   Thailand   EAS   Eleventh     1957   Leslie Munro   New Zealand   COS   Twelfth Third emergency special     1958   Charles Malik   Lebanon   MES   Thirteenth     1959   Víctor Andrés Belaúnde   Peru   LAS   Fourteenth Fourth emergency special     1960   Frederick Boland   Ireland   WES   Fifteenth Third special     1961   Mongi Slim   Tunisia   MES   Sixteenth     1962   Muhammad Zafarullah Khan   Pakistan   COS   Seventeenth Fourth special     1963   Carlos Sosa Rodríguez ( es )   Venezuela   LAS   Eighteenth     1964   Alex Quaison - Sackey   Ghana   COS   Nineteenth     1965   Amintore Fanfani   Italy   WES   Twentieth     1966   Abdul Rahman Pazhwak   Afghanistan   Asia   Twenty - first Fifth special Fifth emergency special     1967   Corneliu Mănescu   Romania   EEG   Twenty - second     1968   Emilio Arenales Catalán   Guatemala   GRULAC   Twenty - third     1969   Angie Brooks   Liberia   Africa   Twenty - fourth     1970   Edvard Hambro   Norway   WEOG   Twenty - fifth     1971   Adam Malik   Indonesia   Asia   Twenty - sixth     1972   Stanisław Trepczyński   Poland   EEG   Twenty - seventh     1973   Leopoldo Benites   Ecuador   GRULAC   Twenty - eighth Sixth special       Abdelaziz Bouteflika   Algeria   Africa   Twenty - ninth Seventh special       Gaston Thorn   Luxembourg   WEOG   Thirtieth     1976   Hamilton Shirley Amerasinghe   Sri Lanka   Asia   Thirty - first     1977   Lazar Mojsov   Yugoslavia   EEG   Thirty - second Eighth special Ninth special Tenth special     1978   Indalecio Liévano   Colombia   GRULAC   Thirty - third     1979   Salim Ahmed Salim   United Republic of Tanzania   Africa   Thirty - fourth Sixth emergency special Seventh emergency special Eleventh special     1980   Rüdiger von Wechmar   Federal Republic of Germany   WEOG   Thirty - fifth Eighth emergency special     1981   Ismat T. Kittani   Iraq   Asia   Thirty - sixth Seventh emergency special -- Continuation Ninth emergency special Twelfth special     1982   Imre Hollai   Hungary   EEG   Thirty - seventh       Jorge Illueca   Panama   GRULAC   Thirty - eighth     1984   Paul J.F. Lusaka   Zambia   Africa   Thirty - ninth     1985   Jaime de Piniés   Spain   WEOG   Fortieth Thirteenth special     1986   Humayun Rashid Choudhury   Bangladesh   Asia   Forty - first Fourteenth special       Peter Florin   German Democratic Republic   EEG   Forty - second Fifteenth special       Dante Caputo   Argentina   GRULAC   Forty - third       Joseph Nanven Garba   Nigeria   Africa   Forty - fourth Sixteenth special Seventeenth special Eighteenth special       Guido de Marco   Malta   WEOG   Forty - fifth     1991   Samir Shihabi   Saudi Arabia   Asia   Forty - sixth       Stoyan Ganev   Bulgaria   EEG   Forty - seventh       Rudy Insanally   Guyana   GRULAC   Forty - eighth       Amara Essy   Ivory Coast   Africa   Forty - ninth     1995   Diogo de Freitas do Amaral   Portugal   WEOG   Fiftieth       Razali Ismail   Malaysia   Asia   Fifty - first Tenth emergency special Nineteenth special       Hennadiy Udovenko   Ukraine   EEG   Fifty - second Tenth emergency special -- Continuation Twentieth special     1998   Didier Opertti   Uruguay   GRULAC   Fifty - third Tenth emergency special -- Continuation Twenty - first special     1999   Theo - Ben Gurirab   Namibia   Africa   Fifty - fourth Twenty - second special Twenty - third special Twenty - fourth special     2000   Harri Holkeri   Finland   WEOG   Fifty - fifth Tenth emergency special -- Continuation Twenty - fifth special Twenty - sixth special       Han Seung - soo   Republic of Korea   Asia   Fifty - sixth Tenth emergency special -- Continuation     2002   Jan Kavan   Czech Republic   EEG   Fifty - seventh Tenth emergency special -- Continuation     2003   Julian Hunte   Saint Lucia   GRULAC   Fifty - eighth Tenth emergency special -- Continuation       Jean Ping   Gabon   Africa   Fifty - ninth     2005   Jan Eliasson   Sweden   WEOG   Sixtieth     2006   Haya Rashed Al - Khalifa   Bahrain   Asia   Sixty - first Tenth emergency special -- Continuation     2007   Srgjan Kerim   Republic of Macedonia   EEG   Sixty - second     2008   Miguel d'Escoto Brockmann   Nicaragua   GRULAC   Sixty - third     2009   Ali Treki   Libya   Africa   Sixty - fourth       Joseph Deiss   Switzerland   WEOG   Sixty - fifth     2011   Nassir Al - Nasser   Qatar   Asia - Pacific   Sixty - sixth     2012   Vuk Jeremić   Serbia   EEG   Sixty - seventh ( election )     2013   John William Ashe   Antigua and Barbuda   GRULAC   Sixty - eighth     2014   Sam Kutesa   Uganda   Africa   Sixty - ninth     2015   Mogens Lykketoft   Denmark   WEOG   Seventieth     2016   Peter Thomson   Fiji   Asia - Pacific   Seventy - first ( election )     2017   Miroslav Lajčák   Slovakia   EEG   Seventy - second     Abbreviations :    Pre-1966     COS : Commonwealth Seat   EAS : Eastern European and Asian Seat   LAS : Latin American Seat   MES : Middle Eastern Seat   WES : Western European Seat     Since 1966     Africa : African Group   Asia - Pacific : Asian Group , since 2011 the Asia - Pacific Group   EEG : Eastern European Group   GRULAC : Latin American and Caribbean Group   WEOG : Western European and Others Group    See also ( edit )    President of the United Nations Security Council    References ( edit )    Jump up ^ `` UN : About the General Assembly '' . Retrieved 2009 - 09 - 16 .   Jump up ^ Presidents of the General Assembly of the United Nations . Un.org . Retrieved on 2013 - 12 - 06 .   Jump up ^ United Nations document GA / 11105   Jump up ^ `` Asian Group of nations at UN changes its name to Asia - Pacific Group '' , Radio New Zealand International , 31 August 2011 .    External links ( edit )       Wikinews has news related to : United Nations      UN : List of UN General Assembly presidents   UN General Assembly President Election Reform .   UNelections.org .   More news on UN elections and appointments .              Presidents of the United Nations General Assembly     1940s     Spaak ( BEL )   Aranha ( BRA )   Arce ( ARG )   Evatt ( AUS )   Rómulo ( PHI )       1950s     Entezam ( IRI )   Nervo ( MEX )   Pearson ( CAN )   Pandit ( IND )   van Kleffens ( NED )   Maza ( CHI )   Ortega ( CHI )   Prince Wan Waithayakon ( THA )   Munro ( NZL )   Malik ( LIB )   Belaúnde ( PER )       1960s     Boland ( IRL )   Slim ( TUN )   Khan ( PAK )   Rodriguez ( VEN )   Quaison - Sackey ( GHA )   Fanfani ( ITA )   Pazhwak ( AFG )   Mănescu ( ROM )   Catalán ( GUA )   Brooks ( LBR )       1970s     Hambro ( NOR )   Malik ( INA )   Trepczyński ( POL )   Benites ( ECU )   Bouteflika ( ALG )   Thorn ( LUX )   Amerasinghe ( SRI )   Mojsov ( YUG )   Liévano ( COL )   Salim ( TAN )       1980s     von Wechmar ( BRD )   Kittani ( IRQ )   Hollai ( HUN )   Illueca ( PAN )   Lusaka ( ZAM )   Piniés ( ESP )   Choudhury ( BAN )   Florin ( DDR )   Caputo ( ARG )   Garba ( NGR )       1990s     de Marco ( MLT )   Shihabi ( KSA )   Ganev ( BUL )   Insanally ( GUY )   Essy ( CIV )   Freitas ( POR )   Ismail ( MAS )   Udovenko ( UKR )   Opertti ( URU )   Gurirab ( NAM )       2000s     Holkeri ( FIN )   Han ( KOR )   Kavan ( CZE )   Hunte ( LCA )   Ping ( GAB )   Eliasson ( SWE )   Al - Khalifa ( BAH )   Kerim ( MKD )   d'Escoto ( NIC )   Treki ( LIB )       2010s     Deiss ( SUI )   Nasser ( QAT )   Jeremić ( SRB )   Ashe ( ANT )   Kutesa ( UGA )   Lykketoft ( DEN )   Thomson ( FIJ )   Lajčák ( SVK )                 Permanent Representatives to the United Nations     Africa     Liberia   Morocco   Tanzania       Americas     Barbados   Canada   Chile   Colombia   Guyana   Honduras   Panama   United States       Asia     Afghanistan   China   India   Indonesia   Iran   Iraq   Israel   Pakistan   Philippines   Sri Lanka   Syria       Europe     Belgium   Belarus   Croatia   Finland   France   Germany   Italy   Lithuania   Luxembourg   Russia   Sweden   United Kingdom   Ukraine       Oceania     Australia   New Zealand       Permanent Observers     Holy See   Palestine   Sovereign Military Order of Malta       Related articles     Current Permanent Representatives   UN Members   General Assembly   Security Council President                 United Nations       António Guterres , Secretary - General   Amina J. Mohammed , Deputy Secretary - General   Peter Thomson , General Assembly President       United Nations System      United Nations Charter     Preamble       Principal organs     General Assembly   President     Security Council   Members     Economic and Social Council   Secretariat   Secretary - General   Deputy Secretary - General   Under - Secretary - General     International Court of Justice   statute     Trusteeship Council       Secretariat Offices and Departments     Headquarters   Envoy on Youth   Spokesperson for the Secretary - General   Geneva   Palace of Nations   Nairobi   Vienna   Economic and Social Affairs   Political Affairs   Public Information   Dag Hammarskjöld Library     Safety and Security   Palestinian Rights   Peacekeeping Operations   Internal Oversight   Legal Affairs   Developing Countries   Sport for Development and Peace   Disarmament Affairs   Outer Space Affairs   Partnerships   Coordination of Humanitarian Affairs   UN organizations by location   United Nations Office for Developing Countries       Programmes and specialized agencies     FAO   ICAO   IFAD   ILO   IMO   ITC   IPCC   IAEA   MINURSO   UNIDO   ITU   UNAIDS   SCSL   UNCTAD   UNCITRAL   UNCDF   UNDG   UNDP   UNDPI   UNDPKO   peacekeeping     UNEP   OzonAction   UNEP / GRID - Arendal   UNEP - WCMC     UNESCO   UNFIP   UNFPA   UN-HABITAT   OHCHR   UNHCR   UNHRC   UNICEF   UNICRI   UNIDIR   UNITAR   UN-Oceans   UNODC   UNOPS   UNOSAT   UNRISD   UNRWA   UNU   UNU - OP   UNU - CRIS     UNV   UN Women   UNWTO   UPU   WFP   WHO   WIPO   WMO          Members / observers     Full members   Founding members   UNSC Permanent members     Observers   European Union         History     League of Nations   Four Policemen   Declaration by United Nations   Peacekeeping missions   history   timeline     Enlargement       Resolutions     Security Council vetoes   General Assembly   66th   67th     Security Council   Cyprus   Iran   Iraq   Israel   Lebanon   Nagorno - Karabakh   North Korea   Palestine   Syria   Western Sahara         Elections     Secretary - General ( 2006   2016 )   International Court of Justice 2011   General Assembly President ( 2012   2016 )   Security Council ( 2015   2016 )       Related     Bretton Woods system   Comprehensive Nuclear - Test - Ban Treaty   Criticism   Delivering as One   Flag   Honour Flag     Four Nations Initiative   Genocide Convention   UN Global Compact   ICC   International Years   UN laissez - passer   Military Staff Committee   Official languages   Organisation for the Prohibition of Chemical Weapons   Peacekeeping   Treaty Series   UN Day   Universal Declaration of Human Rights   Millennium Declaration   Summit   Development Goals     Security Council veto power   UN reform   Security Council reform     UN Art Collection   UN Memorial Cemetery Korea       Other     Outline   UN television film series ( 1964 -- 1966 )   In popular culture      Retrieved from `` https://en.wikipedia.org/w/index.php?title=President_of_the_United_Nations_General_Assembly&oldid=807429262 '' Categories :   Lists of Permanent Representatives to the United Nations   Permanent Representatives to the United Nations   Presidents of the United Nations General Assembly           Talk                                           Contents                   About Wikipedia                                                   Български   Dansk   Deutsch   Español   Français   한국어   Bahasa Indonesia   Italiano   Nederlands   Norsk   Português   Русский   Simple English   Slovenščina   Soomaaliga   کوردی   Srpskohrvatski / српскохрватски   Suomi   Türkçe   Українська   اردو   Tiếng Việt   中文   Edit links   This page was last edited on 27 October 2017 , at 22 : 08 .   Text is available under the Creative Commons Attribution - ShareAlike License ; additional terms may apply . By using this site , you agree to the Terms of Use and Privacy Policy . Wikipedia ® is a registered trademark of the Wikimedia Foundation , Inc. , a non-profit organization .       About Wikipedia                    \"}"
      ]
     },
     "execution_count": 31,
     "metadata": {},
     "output_type": "execute_result"
    }
   ],
   "source": [
    "extracted_data[8]"
   ]
  },
  {
   "cell_type": "code",
   "execution_count": 32,
   "metadata": {},
   "outputs": [
    {
     "data": {
      "text/plain": [
       "True"
      ]
     },
     "execution_count": 32,
     "metadata": {},
     "output_type": "execute_result"
    }
   ],
   "source": [
    "extracted_data[8]['short_answer'] in extracted_data[8]['document_text_clean']"
   ]
  },
  {
   "cell_type": "code",
   "execution_count": 33,
   "metadata": {},
   "outputs": [
    {
     "data": {
      "application/vnd.jupyter.widget-view+json": {
       "model_id": "6e43d93c42c948698306b9b634bf5fcc",
       "version_major": 2,
       "version_minor": 0
      },
      "text/plain": [
       "HBox(children=(FloatProgress(value=0.0, max=106848.0), HTML(value='')))"
      ]
     },
     "metadata": {},
     "output_type": "display_data"
    },
    {
     "name": "stdout",
     "output_type": "stream",
     "text": [
      "\n"
     ]
    }
   ],
   "source": [
    "sanity_check = []\n",
    "\n",
    "for i, rec in enumerate(tqdm(extracted_data)):\n",
    "    sanity_check.append(int(rec['short_answer'] in rec['document_text_clean']))"
   ]
  },
  {
   "cell_type": "code",
   "execution_count": 34,
   "metadata": {},
   "outputs": [
    {
     "data": {
      "text/plain": [
       "1.0"
      ]
     },
     "execution_count": 34,
     "metadata": {},
     "output_type": "execute_result"
    }
   ],
   "source": [
    "sanity_check.count(1)/len(sanity_check)"
   ]
  },
  {
   "cell_type": "code",
   "execution_count": 36,
   "metadata": {},
   "outputs": [
    {
     "data": {
      "text/plain": [
       "0"
      ]
     },
     "execution_count": 36,
     "metadata": {},
     "output_type": "execute_result"
    }
   ],
   "source": [
    "sanity_check.count(0)"
   ]
  },
  {
   "cell_type": "code",
   "execution_count": null,
   "metadata": {},
   "outputs": [],
   "source": []
  }
 ],
 "metadata": {
  "kernelspec": {
   "display_name": "Python 3",
   "language": "python",
   "name": "python3"
  },
  "language_info": {
   "codemirror_mode": {
    "name": "ipython",
    "version": 3
   },
   "file_extension": ".py",
   "mimetype": "text/x-python",
   "name": "python",
   "nbconvert_exporter": "python",
   "pygments_lexer": "ipython3",
   "version": "3.8.3"
  }
 },
 "nbformat": 4,
 "nbformat_minor": 4
}
