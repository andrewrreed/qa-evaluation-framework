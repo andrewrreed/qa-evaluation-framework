{
 "cells": [
  {
   "cell_type": "markdown",
   "metadata": {},
   "source": [
    "# Natural Questions - Data Preparation for Retriever Evaluation"
   ]
  },
  {
   "cell_type": "code",
   "execution_count": 64,
   "metadata": {},
   "outputs": [],
   "source": [
    "import json\n",
    "import os\n",
    "import sys\n",
    "import logging\n",
    "import re\n",
    "import pickle\n",
    "from collections import defaultdict\n",
    "from tqdm.notebook import tqdm"
   ]
  },
  {
   "cell_type": "code",
   "execution_count": 3,
   "metadata": {},
   "outputs": [
    {
     "data": {
      "text/plain": [
       "['2_NQ_Retriever_ES_Setup.ipynb',\n",
       " 'temp',\n",
       " '.DS_Store',\n",
       " '0_NQ_Data_Exploration.ipynb',\n",
       " '1_NQ_Retriever_Data_Prep.ipynb',\n",
       " '.ipynb_checkpoints']"
      ]
     },
     "execution_count": 3,
     "metadata": {},
     "output_type": "execute_result"
    }
   ],
   "source": [
    "os.listdir()"
   ]
  },
  {
   "cell_type": "code",
   "execution_count": 4,
   "metadata": {},
   "outputs": [
    {
     "data": {
      "text/plain": [
       "'/Users/areed/Documents/FFL Research/FF14/qa_retriever_evaluation/notebooks'"
      ]
     },
     "execution_count": 4,
     "metadata": {},
     "output_type": "execute_result"
    }
   ],
   "source": [
    "os.getcwd()"
   ]
  },
  {
   "cell_type": "markdown",
   "metadata": {},
   "source": [
    "### Load Data"
   ]
  },
  {
   "cell_type": "code",
   "execution_count": 65,
   "metadata": {
    "collapsed": true
   },
   "outputs": [
    {
     "data": {
      "application/vnd.jupyter.widget-view+json": {
       "model_id": "ce200c50f7a54a17882459feac0b8c96",
       "version_major": 2,
       "version_minor": 0
      },
      "text/plain": [
       "HBox(children=(FloatProgress(value=1.0, bar_style='info', max=1.0), HTML(value='')))"
      ]
     },
     "metadata": {},
     "output_type": "display_data"
    },
    {
     "name": "stdout",
     "output_type": "stream",
     "text": [
      "\n"
     ]
    },
    {
     "ename": "KeyboardInterrupt",
     "evalue": "",
     "output_type": "error",
     "traceback": [
      "\u001b[0;31m------------------------------------------------\u001b[0m",
      "\u001b[0;31mKeyboardInterrupt\u001b[0mTraceback (most recent call last)",
      "\u001b[0;32m<ipython-input-65-f3b6499a7530>\u001b[0m in \u001b[0;36m<module>\u001b[0;34m\u001b[0m\n\u001b[1;32m      3\u001b[0m \u001b[0mdata\u001b[0m \u001b[0;34m=\u001b[0m \u001b[0;34m[\u001b[0m\u001b[0;34m]\u001b[0m\u001b[0;34m\u001b[0m\u001b[0;34m\u001b[0m\u001b[0m\n\u001b[1;32m      4\u001b[0m \u001b[0;32mwith\u001b[0m \u001b[0mopen\u001b[0m\u001b[0;34m(\u001b[0m\u001b[0mjsonfilename\u001b[0m\u001b[0;34m,\u001b[0m \u001b[0;34m'rb'\u001b[0m\u001b[0;34m)\u001b[0m \u001b[0;32mas\u001b[0m \u001b[0mf\u001b[0m\u001b[0;34m:\u001b[0m\u001b[0;34m\u001b[0m\u001b[0;34m\u001b[0m\u001b[0m\n\u001b[0;32m----> 5\u001b[0;31m     \u001b[0;32mfor\u001b[0m \u001b[0mline\u001b[0m \u001b[0;32min\u001b[0m \u001b[0mtqdm\u001b[0m\u001b[0;34m(\u001b[0m\u001b[0mf\u001b[0m\u001b[0;34m)\u001b[0m\u001b[0;34m:\u001b[0m\u001b[0;34m\u001b[0m\u001b[0;34m\u001b[0m\u001b[0m\n\u001b[0m\u001b[1;32m      6\u001b[0m         \u001b[0mdata\u001b[0m\u001b[0;34m.\u001b[0m\u001b[0mappend\u001b[0m\u001b[0;34m(\u001b[0m\u001b[0mjson\u001b[0m\u001b[0;34m.\u001b[0m\u001b[0mloads\u001b[0m\u001b[0;34m(\u001b[0m\u001b[0mline\u001b[0m\u001b[0;34m.\u001b[0m\u001b[0mdecode\u001b[0m\u001b[0;34m(\u001b[0m\u001b[0;34m'utf-8'\u001b[0m\u001b[0;34m)\u001b[0m\u001b[0;34m)\u001b[0m\u001b[0;34m)\u001b[0m\u001b[0;34m\u001b[0m\u001b[0;34m\u001b[0m\u001b[0m\n",
      "\u001b[0;32m~/opt/anaconda3/envs/qa-retriever-eval/lib/python3.8/site-packages/tqdm/notebook.py\u001b[0m in \u001b[0;36m__iter__\u001b[0;34m(self, *args, **kwargs)\u001b[0m\n\u001b[1;32m    216\u001b[0m     \u001b[0;32mdef\u001b[0m \u001b[0m__iter__\u001b[0m\u001b[0;34m(\u001b[0m\u001b[0mself\u001b[0m\u001b[0;34m,\u001b[0m \u001b[0;34m*\u001b[0m\u001b[0margs\u001b[0m\u001b[0;34m,\u001b[0m \u001b[0;34m**\u001b[0m\u001b[0mkwargs\u001b[0m\u001b[0;34m)\u001b[0m\u001b[0;34m:\u001b[0m\u001b[0;34m\u001b[0m\u001b[0;34m\u001b[0m\u001b[0m\n\u001b[1;32m    217\u001b[0m         \u001b[0;32mtry\u001b[0m\u001b[0;34m:\u001b[0m\u001b[0;34m\u001b[0m\u001b[0;34m\u001b[0m\u001b[0m\n\u001b[0;32m--> 218\u001b[0;31m             \u001b[0;32mfor\u001b[0m \u001b[0mobj\u001b[0m \u001b[0;32min\u001b[0m \u001b[0msuper\u001b[0m\u001b[0;34m(\u001b[0m\u001b[0mtqdm_notebook\u001b[0m\u001b[0;34m,\u001b[0m \u001b[0mself\u001b[0m\u001b[0;34m)\u001b[0m\u001b[0;34m.\u001b[0m\u001b[0m__iter__\u001b[0m\u001b[0;34m(\u001b[0m\u001b[0;34m*\u001b[0m\u001b[0margs\u001b[0m\u001b[0;34m,\u001b[0m \u001b[0;34m**\u001b[0m\u001b[0mkwargs\u001b[0m\u001b[0;34m)\u001b[0m\u001b[0;34m:\u001b[0m\u001b[0;34m\u001b[0m\u001b[0;34m\u001b[0m\u001b[0m\n\u001b[0m\u001b[1;32m    219\u001b[0m                 \u001b[0;31m# return super(tqdm...) will not catch exception\u001b[0m\u001b[0;34m\u001b[0m\u001b[0;34m\u001b[0m\u001b[0;34m\u001b[0m\u001b[0m\n\u001b[1;32m    220\u001b[0m                 \u001b[0;32myield\u001b[0m \u001b[0mobj\u001b[0m\u001b[0;34m\u001b[0m\u001b[0;34m\u001b[0m\u001b[0m\n",
      "\u001b[0;32m~/opt/anaconda3/envs/qa-retriever-eval/lib/python3.8/site-packages/tqdm/std.py\u001b[0m in \u001b[0;36m__iter__\u001b[0;34m(self)\u001b[0m\n\u001b[1;32m   1127\u001b[0m \u001b[0;34m\u001b[0m\u001b[0m\n\u001b[1;32m   1128\u001b[0m         \u001b[0;32mtry\u001b[0m\u001b[0;34m:\u001b[0m\u001b[0;34m\u001b[0m\u001b[0;34m\u001b[0m\u001b[0m\n\u001b[0;32m-> 1129\u001b[0;31m             \u001b[0;32mfor\u001b[0m \u001b[0mobj\u001b[0m \u001b[0;32min\u001b[0m \u001b[0miterable\u001b[0m\u001b[0;34m:\u001b[0m\u001b[0;34m\u001b[0m\u001b[0;34m\u001b[0m\u001b[0m\n\u001b[0m\u001b[1;32m   1130\u001b[0m                 \u001b[0;32myield\u001b[0m \u001b[0mobj\u001b[0m\u001b[0;34m\u001b[0m\u001b[0;34m\u001b[0m\u001b[0m\n\u001b[1;32m   1131\u001b[0m                 \u001b[0;31m# Update and possibly print the progressbar.\u001b[0m\u001b[0;34m\u001b[0m\u001b[0;34m\u001b[0m\u001b[0;34m\u001b[0m\u001b[0m\n",
      "\u001b[0;31mKeyboardInterrupt\u001b[0m: "
     ]
    }
   ],
   "source": [
    "jsonfilename = \"../data/raw_data/v1.0-simplified_simplified-nq-train.jsonl\"\n",
    "\n",
    "data = []\n",
    "with open(jsonfilename, 'rb') as f:\n",
    "    for line in tqdm(f):\n",
    "        data.append(json.loads(line.decode('utf-8')))"
   ]
  },
  {
   "cell_type": "code",
   "execution_count": 67,
   "metadata": {},
   "outputs": [
    {
     "data": {
      "text/plain": [
       "dict_keys(['document_text', 'long_answer_candidates', 'question_text', 'annotations', 'document_url', 'example_id'])"
      ]
     },
     "execution_count": 67,
     "metadata": {},
     "output_type": "execute_result"
    }
   ],
   "source": [
    "data[0].keys()"
   ]
  },
  {
   "cell_type": "code",
   "execution_count": 73,
   "metadata": {},
   "outputs": [
    {
     "ename": "TypeError",
     "evalue": "list indices must be integers or slices, not str",
     "output_type": "error",
     "traceback": [
      "\u001b[0;31m------------------------------------------------\u001b[0m",
      "\u001b[0;31mTypeError\u001b[0m      Traceback (most recent call last)",
      "\u001b[0;32m<ipython-input-73-9acec26b2f9b>\u001b[0m in \u001b[0;36m<module>\u001b[0;34m\u001b[0m\n\u001b[0;32m----> 1\u001b[0;31m \u001b[0mdata\u001b[0m\u001b[0;34m[\u001b[0m\u001b[0;36m0\u001b[0m\u001b[0;34m]\u001b[0m\u001b[0;34m[\u001b[0m\u001b[0;34m'annotations'\u001b[0m\u001b[0;34m]\u001b[0m\u001b[0;34m[\u001b[0m\u001b[0;34m'short_answers'\u001b[0m\u001b[0;34m]\u001b[0m\u001b[0;34m\u001b[0m\u001b[0;34m\u001b[0m\u001b[0m\n\u001b[0m",
      "\u001b[0;31mTypeError\u001b[0m: list indices must be integers or slices, not str"
     ]
    }
   ],
   "source": [
    "data[0]['annotations']['short_answers']"
   ]
  },
  {
   "cell_type": "code",
   "execution_count": 74,
   "metadata": {},
   "outputs": [
    {
     "name": "stdout",
     "output_type": "stream",
     "text": [
      "2\n"
     ]
    }
   ],
   "source": [
    "for i, rec in enumerate(data):\n",
    "    if len(rec['annotations'][0]['short_answers']) == 0:\n",
    "        print(i)\n",
    "        break"
   ]
  },
  {
   "cell_type": "code",
   "execution_count": 76,
   "metadata": {},
   "outputs": [
    {
     "data": {
      "text/plain": [
       "[{'yes_no_answer': 'NONE',\n",
       "  'long_answer': {'start_token': 319, 'candidate_index': 24, 'end_token': 438},\n",
       "  'short_answers': [],\n",
       "  'annotation_id': 10527123009892725162}]"
      ]
     },
     "execution_count": 76,
     "metadata": {},
     "output_type": "execute_result"
    }
   ],
   "source": [
    "data[2]['annotations']"
   ]
  },
  {
   "cell_type": "markdown",
   "metadata": {},
   "source": [
    "### Prep NQ Train Data"
   ]
  },
  {
   "cell_type": "markdown",
   "metadata": {},
   "source": [
    "**In order to properly evaluate the retriever portion of an end-to-end QA system, we will make use of *short answer questions* only.**\n",
    "\n",
    "For some NQ questions, an annotation will contain multiple short_answers. [Google's reference implementation](https://github.com/google-research/language/blob/master/language/question_answering/decatt_docreader/preprocessing/create_nq_short_pipeline_examples.py) (line 62) suggests that during training, they only utilize the first answer. For our purposes of evaluating the retriever, we will do the same."
   ]
  },
  {
   "cell_type": "code",
   "execution_count": 5,
   "metadata": {},
   "outputs": [],
   "source": [
    "def filter_nq_train_data(raw_data):\n",
    "    '''\n",
    "    This function takes the full corpus of NQ training data and filters examples that\n",
    "    are not relevant for proper retriever evaluation, including: a.) records that do no have at \n",
    "    least one short answer are discarded b.) records that have more than one short answer \n",
    "    are truncated to only use the first short answer.\n",
    "    \n",
    "    These filters are in line with standard retriever evaluation techniques as well as\n",
    "    Google's suggested reference implementation:\n",
    "    \n",
    "    https://github.com/google-research/language/blob/master/language/question_answering/\n",
    "    decatt_docreader/preprocessing/create_nq_short_pipeline_examples.py\n",
    "    \n",
    "    Args:\n",
    "        raw_data (list) - python object representation of the raw jsonl file\n",
    "        \n",
    "    Returns:\n",
    "        filtered_data (list) - a refined version of the raw jsonl file\n",
    "    \n",
    "    '''\n",
    "    \n",
    "    multi_count = 0 \n",
    "    filtered_data = []\n",
    "    \n",
    "    for i, rec in enumerate(raw_data):\n",
    "        \n",
    "        # ignore questions that dont have at least one short answer\n",
    "        if len(rec['annotations'][0]['short_answers']) == 0:\n",
    "            continue\n",
    "        \n",
    "        # if an annotation contains multiple short answers, keep only the first\n",
    "        if len(rec['annotations'][0]['short_answers']) > 1:\n",
    "            \n",
    "            multi_count += 1\n",
    "            \n",
    "            # extract first dict and keep as one-element list\n",
    "            temp = []\n",
    "            short_ans = rec['annotations'][0]['short_answers'][0]\n",
    "            temp.append(short_ans)\n",
    "            \n",
    "            # overwrite\n",
    "            new_rec = rec.copy()\n",
    "            new_rec['annotations'][0]['short_answers'] = temp\n",
    "            \n",
    "            filtered_data.append(new_rec)\n",
    "        \n",
    "        else:\n",
    "            filtered_data.append(rec)\n",
    "            \n",
    "            \n",
    "    print(f'{len(raw_data)-len(filtered_data)} records (out of {len(raw_data)}) did not have at least one short answer and were dropped.')\n",
    "    print(f'{multi_count} questions had multiple short answers that were effected by truncation.')\n",
    "            \n",
    "    return filtered_data"
   ]
  },
  {
   "cell_type": "code",
   "execution_count": 4,
   "metadata": {},
   "outputs": [
    {
     "name": "stdout",
     "output_type": "stream",
     "text": [
      "200447 records (out of 307373) did not have at least one short answer and were dropped.\n",
      "10427 out of 307373 questions had multiple short answers that were effected by truncation.\n",
      "CPU times: user 2.03 s, sys: 9.25 s, total: 11.3 s\n",
      "Wall time: 34.5 s\n"
     ]
    }
   ],
   "source": [
    "%%time \n",
    "\n",
    "filtered_data = filter_nq_train_data(data)"
   ]
  },
  {
   "cell_type": "code",
   "execution_count": 6,
   "metadata": {},
   "outputs": [
    {
     "data": {
      "text/plain": [
       "106926"
      ]
     },
     "execution_count": 6,
     "metadata": {},
     "output_type": "execute_result"
    }
   ],
   "source": [
    "len(filtered_data)"
   ]
  },
  {
   "cell_type": "markdown",
   "metadata": {},
   "source": [
    "### Extract & Clean Data Needed for Retriever Evaluation"
   ]
  },
  {
   "cell_type": "markdown",
   "metadata": {},
   "source": [
    "**For the purposes of evaluating retriever performance, the data items we will need are:**\n",
    "- question_text\n",
    "- document_text (cleaned by removing all HTML tags)\n",
    "- short_answer (from annotations)\n",
    "- example_id\n",
    "- document_url\n",
    "\n",
    "**While the \"simplified\" version of NQ does clean a vast majority of the HTML content from the Wikipedia page, the \"document_text\" field does still contain several types of HTML tags that are used for long_answer span identification.**\n",
    "\n",
    "Namely, those tags are:\n",
    "- Heading tags\n",
    "- Table tags\n",
    "- Table row tags\n",
    "- List tags\n",
    "\n",
    "**For simplicity, we will use regex to remove any elements contained inside angle brackets like this `<any_text_here>`**"
   ]
  },
  {
   "cell_type": "code",
   "execution_count": 8,
   "metadata": {},
   "outputs": [],
   "source": [
    "def get_short_answer_from_span(example):\n",
    "    '''\n",
    "    Use the short answer span from a NQ json record to retreive\n",
    "    and return the corresponding short answer text.\n",
    "    \n",
    "    Args:\n",
    "        example - a jsonl record from NQ simplified dataset\n",
    "        \n",
    "    Returns:\n",
    "        ans (string) - the string representation of text in the short answer span\n",
    "    \n",
    "    '''\n",
    "    \n",
    "    short_answer_span = example['annotations'][0]['short_answers'][0]\n",
    "    \n",
    "    short_answer = \" \".join(example['document_text'].split(\" \")\\\n",
    "                            [short_answer_span['start_token']:short_answer_span['end_token']])\n",
    "    \n",
    "    return short_answer\n",
    "\n",
    "\n",
    "def clean_document_text(text):\n",
    "    '''\n",
    "    This function applies a regular expression to an input text string to remove\n",
    "    any characters wrapped in <> with the goal of stripping HTML tags from a string.\n",
    "    \n",
    "    Args:\n",
    "        text (string)\n",
    "        \n",
    "    Returns:\n",
    "        text (string) - cleaned text\n",
    "    \n",
    "    '''\n",
    "    \n",
    "    cleaner = re.compile('<.*?>')\n",
    "    \n",
    "    return re.sub(cleaner, '', text)\n",
    "\n",
    "\n",
    "def extract_wiki_title(document_url):\n",
    "    '''\n",
    "    This function applies a regular expression to an input wikipedia article URL\n",
    "    to extract and return the article title.\n",
    "    \n",
    "    Args:\n",
    "        document_url (string)\n",
    "        \n",
    "    Returns:\n",
    "        title (string) - article title\n",
    "    '''\n",
    "    \n",
    "    pattern = 'title=(.*?)&amp'\n",
    "    \n",
    "    try:\n",
    "        title = re.search(pattern, document_url).group(1)\n",
    "    except AttributeError:\n",
    "        title = 'No Title Found'\n",
    "        \n",
    "    return title\n",
    "    \n",
    "    \n",
    "def extract_data(data):\n",
    "    '''\n",
    "    This function loops through a list of NQ simplified records and extracts only the data items\n",
    "    needed for retriever evaluation as described above.\n",
    "    \n",
    "    Args:\n",
    "        data (list) - a list of filtered jsonl records from NQ simplified dataset\n",
    "        \n",
    "    Returns:\n",
    "        extracted_data (list) - a list of cleaned jsonl records\n",
    "    \n",
    "    '''\n",
    "    \n",
    "    extracted_data = []\n",
    "    \n",
    "    for i, rec in enumerate(tqdm(data)):\n",
    "        \n",
    "        example_id = rec['example_id']\n",
    "        document_url = rec['document_url']\n",
    "        question_text = rec['question_text']\n",
    "        short_answer = get_short_answer_from_span(rec)\n",
    "        document_text_clean = clean_document_text(rec['document_text'])\n",
    "        document_title = extract_wiki_title(rec['document_url'])\n",
    "        \n",
    "        # to ensure our dataset is completely solveable\n",
    "        # this logic weeds out erroneous labeling activity\n",
    "        # ex. 'Mickey Hart </Li> <Li> Bill Kreutzmann </Li> <Li> John Mayer </Li> was selected as long AND short answer\n",
    "        # when really each of these should have been their own short answers\n",
    "        if short_answer not in document_text_clean:\n",
    "            continue\n",
    "        \n",
    "        new_rec = {'example_id': example_id,\n",
    "                   'document_title': document_title,\n",
    "                   'document_url': document_url,\n",
    "                   'question_text': question_text,\n",
    "                   'short_answer': short_answer,\n",
    "                   'document_text_clean': document_text_clean}\n",
    "        \n",
    "        extracted_data.append(new_rec)\n",
    "        \n",
    "    print(f'{len(extracted_data)} of the {len(data)} records are complete and solvable.')\n",
    "    \n",
    "    return extracted_data\n",
    "    "
   ]
  },
  {
   "cell_type": "code",
   "execution_count": 9,
   "metadata": {},
   "outputs": [
    {
     "data": {
      "application/vnd.jupyter.widget-view+json": {
       "model_id": "3613944a72e145ee83c700d09640bbb9",
       "version_major": 2,
       "version_minor": 0
      },
      "text/plain": [
       "HBox(children=(FloatProgress(value=0.0, max=106926.0), HTML(value='')))"
      ]
     },
     "metadata": {},
     "output_type": "display_data"
    },
    {
     "name": "stdout",
     "output_type": "stream",
     "text": [
      "\n",
      "106848 of the 106926 records are complete and solvable.\n"
     ]
    }
   ],
   "source": [
    "# extract data needed for retriever\n",
    "extracted_data = extract_data(filtered_data)"
   ]
  },
  {
   "cell_type": "markdown",
   "metadata": {},
   "source": [
    "#### Save data object "
   ]
  },
  {
   "cell_type": "code",
   "execution_count": 48,
   "metadata": {},
   "outputs": [],
   "source": [
    "file_path = '../data/eval_data/'\n",
    "file_name = 'extracted_data_records.pkl'\n",
    "\n",
    "with open(file_path+file_name, 'wb') as f:\n",
    "    \n",
    "    pickle.dump(extracted_data, f)"
   ]
  },
  {
   "cell_type": "markdown",
   "metadata": {},
   "source": [
    "#### Load data object"
   ]
  },
  {
   "cell_type": "code",
   "execution_count": 5,
   "metadata": {},
   "outputs": [],
   "source": [
    "file_path = '../data/eval_data/'\n",
    "file_name = 'extracted_data_records.pkl'\n",
    "\n",
    "with open(file_path+file_name, 'rb') as f:\n",
    "    \n",
    "    extracted_data = pickle.load(f)"
   ]
  },
  {
   "cell_type": "markdown",
   "metadata": {},
   "source": [
    "### Drop records that have >5 words in the short answer"
   ]
  },
  {
   "cell_type": "markdown",
   "metadata": {},
   "source": [
    "**\"Answers with many tokens often resemble extractive snippets rather than canonical answers, so we discard answers with more than 5 tokens\"** \n",
    "\n",
    "https://arxiv.org/pdf/1906.00300.pdf"
   ]
  },
  {
   "cell_type": "code",
   "execution_count": 26,
   "metadata": {},
   "outputs": [],
   "source": [
    "def drop_longer_answers(data):\n",
    "    '''\n",
    "    This function loops through a list of NQ simplified records and drops any records where the short answer\n",
    "    contains more than 5 tokens. \n",
    "    \n",
    "    Answers with many tokens often resemble extractive snippets rather than canonical answers, so we discard\n",
    "    answers with more than 5 tokens: https://arxiv.org/pdf/1906.00300.pdf\n",
    "    \n",
    "    Args:\n",
    "        data (list) - a list of cleaned jsonl records from NQ simplified dataset\n",
    "        \n",
    "    Returns:\n",
    "        extracted_data (list) - a list of cleaned jsonl records\n",
    "    \n",
    "    '''\n",
    "    \n",
    "    slim_data = []\n",
    "    \n",
    "    for i, rec in enumerate(tqdm(data)):\n",
    "        \n",
    "        if len(rec['short_answer'].split(' ')) <= 5:\n",
    "            slim_data.append(rec)\n",
    "            \n",
    "    print(f'{len(data) - len(slim_data)} records were \"long\" short-answers and were dropped.')\n",
    "    print(f'{len(slim_data)} records remain.')\n",
    "            \n",
    "    return slim_data\n",
    "            "
   ]
  },
  {
   "cell_type": "code",
   "execution_count": 27,
   "metadata": {},
   "outputs": [
    {
     "data": {
      "application/vnd.jupyter.widget-view+json": {
       "model_id": "774860b3af424de0868cf35acf437206",
       "version_major": 2,
       "version_minor": 0
      },
      "text/plain": [
       "HBox(children=(FloatProgress(value=0.0, max=106848.0), HTML(value='')))"
      ]
     },
     "metadata": {},
     "output_type": "display_data"
    },
    {
     "name": "stdout",
     "output_type": "stream",
     "text": [
      "\n",
      "19441 records were \"long\" short-answers and were dropped.\n",
      "87407 records remain.\n"
     ]
    }
   ],
   "source": [
    "slim_data = drop_longer_answers(extracted_data)"
   ]
  },
  {
   "cell_type": "markdown",
   "metadata": {},
   "source": [
    "### Format Evidence Data For ElasticSearch Indexing"
   ]
  },
  {
   "cell_type": "markdown",
   "metadata": {},
   "source": [
    "**For indexing, lets get a unique set of documents and experiment with different ways of segmenting large articles into indexes**\n",
    "- deduplicate Wikipedia articles based on: Article Title"
   ]
  },
  {
   "cell_type": "code",
   "execution_count": 22,
   "metadata": {},
   "outputs": [],
   "source": [
    "file_path = '../data/stage_data/'\n",
    "file_name = 'extracted_clean_data.pkl'\n",
    "\n",
    "with open(file_path+file_name, 'rb') as f:\n",
    "    \n",
    "    extracted_data = pickle.load(f)"
   ]
  },
  {
   "cell_type": "code",
   "execution_count": 23,
   "metadata": {},
   "outputs": [
    {
     "data": {
      "text/plain": [
       "87407"
      ]
     },
     "execution_count": 23,
     "metadata": {},
     "output_type": "execute_result"
    }
   ],
   "source": [
    "len(extracted_data)"
   ]
  },
  {
   "cell_type": "code",
   "execution_count": 28,
   "metadata": {},
   "outputs": [
    {
     "data": {
      "text/plain": [
       "{'example_id': -341902602485554777,\n",
       " 'document_title': 'President_of_the_United_Nations_General_Assembly',\n",
       " 'document_url': 'https://en.wikipedia.org//w/index.php?title=President_of_the_United_Nations_General_Assembly&amp;oldid=807429262',\n",
       " 'question_text': 'who is the current president of un general assembly',\n",
       " 'short_answer': 'Miroslav Lajčák of Slovakia',\n",
       " 'document_text_clean': \"President of the United Nations General Assembly - wikipedia  President of the United Nations General Assembly  Jump to : navigation , search    President of the United Nations General Assembly     Emblem of the United Nations     Incumbent Miroslav Lajčák     Appointer   United Nations General Assembly     Term length   1 year     Inaugural holder   Paul - Henri Spaak     Formation   1946     Website   List of Presidents of the UN General Assembly     The President of the United Nations General Assembly is a position voted for by representatives in the United Nations General Assembly ( UNGA ) on a yearly basis . The President presides over the sessions of the General Assembly .   Miroslav Lajčák of Slovakia has been elected as the United Nations General Assembly President of its 72nd session beginning in September 2017 .     Contents  ( hide )   1 Election   2 List of presidents   3 See also   4 References   5 External links      Election ( edit )  A map of the world showing the home countries of Presidents of the United Nations General Assembly up until the 69th session of the General Assembly in 2014 - 15 , with historical member states in inset .  The session of the assembly is scheduled for every year starting in September -- any special , or emergency special , assemblies over the next year will be headed by the President of the UN General Assembly .   The presidency rotates annually between the five geographic groups : African , Asia - Pacific , Eastern European , Latin American and Caribbean , and Western European and other States .   Because of their powerful stature globally , some of the largest , most powerful countries have never held the presidency , such as the People 's Republic of China , France , Japan , Russia , the United Kingdom , and the United States . In particular , it is customary that no permanent member of the United Nations Security Council ever serves as General Assembly president .   The only country that had a national elected as President of the United Nations General Assembly twice is Argentina ; all the other member states had been represented only once by their nationals holding this office . This does not include special and emergency special sessions of the General Assembly .   List of Presidents ( edit )     Year elected   Name of President   UN member state   Region   Sessions     1946   Paul - Henri Spaak   Belgium   WES   First     1947   Oswaldo Aranha   Brazil   LAS   First special Second     1948.1 ! 1948   José Arce   Argentina   LAS   Second special     1948.2 ! 1948   Herbert Vere Evatt   Australia   COS   Third     1949   Carlos P. Romulo   Philippines   EAS   Fourth     1950   Nasrollah Entezam   Iran   EAS   Fifth     1951   Luis Padilla Nervo   Mexico   LAS   Sixth     1952   Lester B. Pearson   Canada   COS   Seventh     1953   Vijaya Lakshmi Pandit   India   COS   Eighth , First woman president     1954   Eelco van Kleffens   Netherlands   WES   Ninth     1955   José Maza Fernández   Chile   LAS   Tenth     1956.1 ! 1956   Rudecindo Ortega ( de )   Chile   LAS   First emergency special Second emergency special     1956.2 ! 1956   Wan Waithayakon   Thailand   EAS   Eleventh     1957   Leslie Munro   New Zealand   COS   Twelfth Third emergency special     1958   Charles Malik   Lebanon   MES   Thirteenth     1959   Víctor Andrés Belaúnde   Peru   LAS   Fourteenth Fourth emergency special     1960   Frederick Boland   Ireland   WES   Fifteenth Third special     1961   Mongi Slim   Tunisia   MES   Sixteenth     1962   Muhammad Zafarullah Khan   Pakistan   COS   Seventeenth Fourth special     1963   Carlos Sosa Rodríguez ( es )   Venezuela   LAS   Eighteenth     1964   Alex Quaison - Sackey   Ghana   COS   Nineteenth     1965   Amintore Fanfani   Italy   WES   Twentieth     1966   Abdul Rahman Pazhwak   Afghanistan   Asia   Twenty - first Fifth special Fifth emergency special     1967   Corneliu Mănescu   Romania   EEG   Twenty - second     1968   Emilio Arenales Catalán   Guatemala   GRULAC   Twenty - third     1969   Angie Brooks   Liberia   Africa   Twenty - fourth     1970   Edvard Hambro   Norway   WEOG   Twenty - fifth     1971   Adam Malik   Indonesia   Asia   Twenty - sixth     1972   Stanisław Trepczyński   Poland   EEG   Twenty - seventh     1973   Leopoldo Benites   Ecuador   GRULAC   Twenty - eighth Sixth special       Abdelaziz Bouteflika   Algeria   Africa   Twenty - ninth Seventh special       Gaston Thorn   Luxembourg   WEOG   Thirtieth     1976   Hamilton Shirley Amerasinghe   Sri Lanka   Asia   Thirty - first     1977   Lazar Mojsov   Yugoslavia   EEG   Thirty - second Eighth special Ninth special Tenth special     1978   Indalecio Liévano   Colombia   GRULAC   Thirty - third     1979   Salim Ahmed Salim   United Republic of Tanzania   Africa   Thirty - fourth Sixth emergency special Seventh emergency special Eleventh special     1980   Rüdiger von Wechmar   Federal Republic of Germany   WEOG   Thirty - fifth Eighth emergency special     1981   Ismat T. Kittani   Iraq   Asia   Thirty - sixth Seventh emergency special -- Continuation Ninth emergency special Twelfth special     1982   Imre Hollai   Hungary   EEG   Thirty - seventh       Jorge Illueca   Panama   GRULAC   Thirty - eighth     1984   Paul J.F. Lusaka   Zambia   Africa   Thirty - ninth     1985   Jaime de Piniés   Spain   WEOG   Fortieth Thirteenth special     1986   Humayun Rashid Choudhury   Bangladesh   Asia   Forty - first Fourteenth special       Peter Florin   German Democratic Republic   EEG   Forty - second Fifteenth special       Dante Caputo   Argentina   GRULAC   Forty - third       Joseph Nanven Garba   Nigeria   Africa   Forty - fourth Sixteenth special Seventeenth special Eighteenth special       Guido de Marco   Malta   WEOG   Forty - fifth     1991   Samir Shihabi   Saudi Arabia   Asia   Forty - sixth       Stoyan Ganev   Bulgaria   EEG   Forty - seventh       Rudy Insanally   Guyana   GRULAC   Forty - eighth       Amara Essy   Ivory Coast   Africa   Forty - ninth     1995   Diogo de Freitas do Amaral   Portugal   WEOG   Fiftieth       Razali Ismail   Malaysia   Asia   Fifty - first Tenth emergency special Nineteenth special       Hennadiy Udovenko   Ukraine   EEG   Fifty - second Tenth emergency special -- Continuation Twentieth special     1998   Didier Opertti   Uruguay   GRULAC   Fifty - third Tenth emergency special -- Continuation Twenty - first special     1999   Theo - Ben Gurirab   Namibia   Africa   Fifty - fourth Twenty - second special Twenty - third special Twenty - fourth special     2000   Harri Holkeri   Finland   WEOG   Fifty - fifth Tenth emergency special -- Continuation Twenty - fifth special Twenty - sixth special       Han Seung - soo   Republic of Korea   Asia   Fifty - sixth Tenth emergency special -- Continuation     2002   Jan Kavan   Czech Republic   EEG   Fifty - seventh Tenth emergency special -- Continuation     2003   Julian Hunte   Saint Lucia   GRULAC   Fifty - eighth Tenth emergency special -- Continuation       Jean Ping   Gabon   Africa   Fifty - ninth     2005   Jan Eliasson   Sweden   WEOG   Sixtieth     2006   Haya Rashed Al - Khalifa   Bahrain   Asia   Sixty - first Tenth emergency special -- Continuation     2007   Srgjan Kerim   Republic of Macedonia   EEG   Sixty - second     2008   Miguel d'Escoto Brockmann   Nicaragua   GRULAC   Sixty - third     2009   Ali Treki   Libya   Africa   Sixty - fourth       Joseph Deiss   Switzerland   WEOG   Sixty - fifth     2011   Nassir Al - Nasser   Qatar   Asia - Pacific   Sixty - sixth     2012   Vuk Jeremić   Serbia   EEG   Sixty - seventh ( election )     2013   John William Ashe   Antigua and Barbuda   GRULAC   Sixty - eighth     2014   Sam Kutesa   Uganda   Africa   Sixty - ninth     2015   Mogens Lykketoft   Denmark   WEOG   Seventieth     2016   Peter Thomson   Fiji   Asia - Pacific   Seventy - first ( election )     2017   Miroslav Lajčák   Slovakia   EEG   Seventy - second     Abbreviations :    Pre-1966     COS : Commonwealth Seat   EAS : Eastern European and Asian Seat   LAS : Latin American Seat   MES : Middle Eastern Seat   WES : Western European Seat     Since 1966     Africa : African Group   Asia - Pacific : Asian Group , since 2011 the Asia - Pacific Group   EEG : Eastern European Group   GRULAC : Latin American and Caribbean Group   WEOG : Western European and Others Group    See also ( edit )    President of the United Nations Security Council    References ( edit )    Jump up ^ `` UN : About the General Assembly '' . Retrieved 2009 - 09 - 16 .   Jump up ^ Presidents of the General Assembly of the United Nations . Un.org . Retrieved on 2013 - 12 - 06 .   Jump up ^ United Nations document GA / 11105   Jump up ^ `` Asian Group of nations at UN changes its name to Asia - Pacific Group '' , Radio New Zealand International , 31 August 2011 .    External links ( edit )       Wikinews has news related to : United Nations      UN : List of UN General Assembly presidents   UN General Assembly President Election Reform .   UNelections.org .   More news on UN elections and appointments .              Presidents of the United Nations General Assembly     1940s     Spaak ( BEL )   Aranha ( BRA )   Arce ( ARG )   Evatt ( AUS )   Rómulo ( PHI )       1950s     Entezam ( IRI )   Nervo ( MEX )   Pearson ( CAN )   Pandit ( IND )   van Kleffens ( NED )   Maza ( CHI )   Ortega ( CHI )   Prince Wan Waithayakon ( THA )   Munro ( NZL )   Malik ( LIB )   Belaúnde ( PER )       1960s     Boland ( IRL )   Slim ( TUN )   Khan ( PAK )   Rodriguez ( VEN )   Quaison - Sackey ( GHA )   Fanfani ( ITA )   Pazhwak ( AFG )   Mănescu ( ROM )   Catalán ( GUA )   Brooks ( LBR )       1970s     Hambro ( NOR )   Malik ( INA )   Trepczyński ( POL )   Benites ( ECU )   Bouteflika ( ALG )   Thorn ( LUX )   Amerasinghe ( SRI )   Mojsov ( YUG )   Liévano ( COL )   Salim ( TAN )       1980s     von Wechmar ( BRD )   Kittani ( IRQ )   Hollai ( HUN )   Illueca ( PAN )   Lusaka ( ZAM )   Piniés ( ESP )   Choudhury ( BAN )   Florin ( DDR )   Caputo ( ARG )   Garba ( NGR )       1990s     de Marco ( MLT )   Shihabi ( KSA )   Ganev ( BUL )   Insanally ( GUY )   Essy ( CIV )   Freitas ( POR )   Ismail ( MAS )   Udovenko ( UKR )   Opertti ( URU )   Gurirab ( NAM )       2000s     Holkeri ( FIN )   Han ( KOR )   Kavan ( CZE )   Hunte ( LCA )   Ping ( GAB )   Eliasson ( SWE )   Al - Khalifa ( BAH )   Kerim ( MKD )   d'Escoto ( NIC )   Treki ( LIB )       2010s     Deiss ( SUI )   Nasser ( QAT )   Jeremić ( SRB )   Ashe ( ANT )   Kutesa ( UGA )   Lykketoft ( DEN )   Thomson ( FIJ )   Lajčák ( SVK )                 Permanent Representatives to the United Nations     Africa     Liberia   Morocco   Tanzania       Americas     Barbados   Canada   Chile   Colombia   Guyana   Honduras   Panama   United States       Asia     Afghanistan   China   India   Indonesia   Iran   Iraq   Israel   Pakistan   Philippines   Sri Lanka   Syria       Europe     Belgium   Belarus   Croatia   Finland   France   Germany   Italy   Lithuania   Luxembourg   Russia   Sweden   United Kingdom   Ukraine       Oceania     Australia   New Zealand       Permanent Observers     Holy See   Palestine   Sovereign Military Order of Malta       Related articles     Current Permanent Representatives   UN Members   General Assembly   Security Council President                 United Nations       António Guterres , Secretary - General   Amina J. Mohammed , Deputy Secretary - General   Peter Thomson , General Assembly President       United Nations System      United Nations Charter     Preamble       Principal organs     General Assembly   President     Security Council   Members     Economic and Social Council   Secretariat   Secretary - General   Deputy Secretary - General   Under - Secretary - General     International Court of Justice   statute     Trusteeship Council       Secretariat Offices and Departments     Headquarters   Envoy on Youth   Spokesperson for the Secretary - General   Geneva   Palace of Nations   Nairobi   Vienna   Economic and Social Affairs   Political Affairs   Public Information   Dag Hammarskjöld Library     Safety and Security   Palestinian Rights   Peacekeeping Operations   Internal Oversight   Legal Affairs   Developing Countries   Sport for Development and Peace   Disarmament Affairs   Outer Space Affairs   Partnerships   Coordination of Humanitarian Affairs   UN organizations by location   United Nations Office for Developing Countries       Programmes and specialized agencies     FAO   ICAO   IFAD   ILO   IMO   ITC   IPCC   IAEA   MINURSO   UNIDO   ITU   UNAIDS   SCSL   UNCTAD   UNCITRAL   UNCDF   UNDG   UNDP   UNDPI   UNDPKO   peacekeeping     UNEP   OzonAction   UNEP / GRID - Arendal   UNEP - WCMC     UNESCO   UNFIP   UNFPA   UN-HABITAT   OHCHR   UNHCR   UNHRC   UNICEF   UNICRI   UNIDIR   UNITAR   UN-Oceans   UNODC   UNOPS   UNOSAT   UNRISD   UNRWA   UNU   UNU - OP   UNU - CRIS     UNV   UN Women   UNWTO   UPU   WFP   WHO   WIPO   WMO          Members / observers     Full members   Founding members   UNSC Permanent members     Observers   European Union         History     League of Nations   Four Policemen   Declaration by United Nations   Peacekeeping missions   history   timeline     Enlargement       Resolutions     Security Council vetoes   General Assembly   66th   67th     Security Council   Cyprus   Iran   Iraq   Israel   Lebanon   Nagorno - Karabakh   North Korea   Palestine   Syria   Western Sahara         Elections     Secretary - General ( 2006   2016 )   International Court of Justice 2011   General Assembly President ( 2012   2016 )   Security Council ( 2015   2016 )       Related     Bretton Woods system   Comprehensive Nuclear - Test - Ban Treaty   Criticism   Delivering as One   Flag   Honour Flag     Four Nations Initiative   Genocide Convention   UN Global Compact   ICC   International Years   UN laissez - passer   Military Staff Committee   Official languages   Organisation for the Prohibition of Chemical Weapons   Peacekeeping   Treaty Series   UN Day   Universal Declaration of Human Rights   Millennium Declaration   Summit   Development Goals     Security Council veto power   UN reform   Security Council reform     UN Art Collection   UN Memorial Cemetery Korea       Other     Outline   UN television film series ( 1964 -- 1966 )   In popular culture      Retrieved from `` https://en.wikipedia.org/w/index.php?title=President_of_the_United_Nations_General_Assembly&oldid=807429262 '' Categories :   Lists of Permanent Representatives to the United Nations   Permanent Representatives to the United Nations   Presidents of the United Nations General Assembly           Talk                                           Contents                   About Wikipedia                                                   Български   Dansk   Deutsch   Español   Français   한국어   Bahasa Indonesia   Italiano   Nederlands   Norsk   Português   Русский   Simple English   Slovenščina   Soomaaliga   کوردی   Srpskohrvatski / српскохрватски   Suomi   Türkçe   Українська   اردو   Tiếng Việt   中文   Edit links   This page was last edited on 27 October 2017 , at 22 : 08 .   Text is available under the Creative Commons Attribution - ShareAlike License ; additional terms may apply . By using this site , you agree to the Terms of Use and Privacy Policy . Wikipedia ® is a registered trademark of the Wikimedia Foundation , Inc. , a non-profit organization .       About Wikipedia                    \"}"
      ]
     },
     "execution_count": 28,
     "metadata": {},
     "output_type": "execute_result"
    }
   ],
   "source": [
    "extracted_data[5]"
   ]
  },
  {
   "cell_type": "code",
   "execution_count": 39,
   "metadata": {},
   "outputs": [],
   "source": [
    "def compile_evidence_corpus(extracted_data):\n",
    "    '''\n",
    "    This function compiles all unique wikipedia documents into a dictionary\n",
    "    \n",
    "    Args:\n",
    "        extracted_data (list) \n",
    "        \n",
    "    Returns:\n",
    "        wiki_docs (dict)\n",
    "    \n",
    "    '''\n",
    "    \n",
    "    unique_titles = []\n",
    "    evidence_docs = []\n",
    "    \n",
    "    for i, rec in enumerate(tqdm(extracted_data)):\n",
    "        \n",
    "        if rec['document_title'] not in unique_titles:\n",
    "            \n",
    "            unique_titles.append(rec['document_title'])\n",
    "            \n",
    "            fields = {'document_title': rec['document_title'],\n",
    "                      'document_url': rec['document_url'],\n",
    "                      'document_text_clean': rec['document_text_clean']}\n",
    "            \n",
    "            evidence_docs.append(fields)\n",
    "                \n",
    "            \n",
    "    print(f'Of the {len(extracted_data)} records, there are {len(evidence_docs)} unique Wikipedia articles.')\n",
    "        \n",
    "    return evidence_docs\n"
   ]
  },
  {
   "cell_type": "code",
   "execution_count": 40,
   "metadata": {},
   "outputs": [
    {
     "data": {
      "application/vnd.jupyter.widget-view+json": {
       "model_id": "df8292af091c4de4a0042756de007a80",
       "version_major": 2,
       "version_minor": 0
      },
      "text/plain": [
       "HBox(children=(FloatProgress(value=0.0, max=87407.0), HTML(value='')))"
      ]
     },
     "metadata": {},
     "output_type": "display_data"
    },
    {
     "name": "stdout",
     "output_type": "stream",
     "text": [
      "\n",
      "Of the 87407 records, there are 40971 unique Wikipedia articles.\n"
     ]
    }
   ],
   "source": [
    "evidence_corpus = compile_evidence_corpus(extracted_data)"
   ]
  },
  {
   "cell_type": "markdown",
   "metadata": {},
   "source": [
    "#### Save as JSONL"
   ]
  },
  {
   "cell_type": "markdown",
   "metadata": {},
   "source": [
    "**Create and save unique Wikipedia articles as jsonl for elastic search to read**"
   ]
  },
  {
   "cell_type": "code",
   "execution_count": 48,
   "metadata": {
    "code_folding": []
   },
   "outputs": [],
   "source": [
    "file_path = '../data/eval_data/'\n",
    "file_name = 'evidence_corpus.jsonl'\n",
    "\n",
    "with open(file_path+file_name, 'w') as outfile:\n",
    "    for entry in evidence_corpus:\n",
    "        json.dump(entry, outfile)\n",
    "        outfile.write('\\n')"
   ]
  },
  {
   "cell_type": "code",
   "execution_count": 49,
   "metadata": {},
   "outputs": [
    {
     "data": {
      "text/plain": [
       "40971"
      ]
     },
     "execution_count": 49,
     "metadata": {},
     "output_type": "execute_result"
    }
   ],
   "source": [
    "len(evidence_corpus)"
   ]
  },
  {
   "cell_type": "code",
   "execution_count": 52,
   "metadata": {},
   "outputs": [],
   "source": [
    "file_path = '../data/eval_data/'\n",
    "file_name = 'evidence_corpus.pkl'\n",
    "\n",
    "with open(file_path+file_name, 'wb') as f:\n",
    "    \n",
    "    pickle.dump(evidence_corpus, f)"
   ]
  },
  {
   "cell_type": "markdown",
   "metadata": {},
   "source": [
    "### Format question/answer records for evaluation"
   ]
  },
  {
   "cell_type": "code",
   "execution_count": 47,
   "metadata": {},
   "outputs": [],
   "source": [
    "def remove_doc_text_field(extracted_data):\n",
    "    '''\n",
    "    This function loops through the extracted_data list and removes the document_text_clean field\n",
    "    from each record\n",
    "    \n",
    "    Args:\n",
    "        extracted_data (list) \n",
    "        \n",
    "    Returns:\n",
    "        slim_data (list)\n",
    "    '''\n",
    "    \n",
    "    slim_data = []\n",
    "    \n",
    "    for i, rec in enumerate(tqdm(extracted_data)):\n",
    "        \n",
    "        new_rec = {k:v for k,v in rec.items() if k != 'document_text_clean'}\n",
    "        slim_data.append(new_rec)\n",
    "        \n",
    "    return slim_data"
   ]
  },
  {
   "cell_type": "code",
   "execution_count": 50,
   "metadata": {},
   "outputs": [
    {
     "data": {
      "application/vnd.jupyter.widget-view+json": {
       "model_id": "0be4013853574903b551fc21e657e97c",
       "version_major": 2,
       "version_minor": 0
      },
      "text/plain": [
       "HBox(children=(FloatProgress(value=0.0, max=87407.0), HTML(value='')))"
      ]
     },
     "metadata": {},
     "output_type": "display_data"
    },
    {
     "name": "stdout",
     "output_type": "stream",
     "text": [
      "\n"
     ]
    }
   ],
   "source": [
    "qa_records = remove_doc_text_field(extracted_data)"
   ]
  },
  {
   "cell_type": "code",
   "execution_count": 51,
   "metadata": {},
   "outputs": [],
   "source": [
    "file_path = '../data/eval_data/'\n",
    "file_name = 'qa_records.pkl'\n",
    "\n",
    "with open(file_path+file_name, 'wb') as f:\n",
    "    \n",
    "    pickle.dump(qa_records, f)"
   ]
  },
  {
   "cell_type": "code",
   "execution_count": 56,
   "metadata": {},
   "outputs": [
    {
     "data": {
      "text/plain": [
       "False"
      ]
     },
     "execution_count": 56,
     "metadata": {},
     "output_type": "execute_result"
    }
   ],
   "source": [
    "os.path.exists('/notebooks')"
   ]
  },
  {
   "cell_type": "code",
   "execution_count": 54,
   "metadata": {},
   "outputs": [
    {
     "name": "stdout",
     "output_type": "stream",
     "text": [
      "/Users/areed/Documents/FFL Research/FF14/qa_retriever_evaluation/notebooks\r\n"
     ]
    }
   ],
   "source": [
    "!pwd"
   ]
  },
  {
   "cell_type": "code",
   "execution_count": 59,
   "metadata": {},
   "outputs": [
    {
     "ename": "FileNotFoundError",
     "evalue": "[Errno 2] No such file or directory: '../qa_retriever_evaluation'",
     "output_type": "error",
     "traceback": [
      "\u001b[0;31m--------------------------------------------\u001b[0m",
      "\u001b[0;31mFileNotFoundError\u001b[0mTraceback (most recent call last)",
      "\u001b[0;32m<ipython-input-59-8a1ca705c38e>\u001b[0m in \u001b[0;36m<module>\u001b[0;34m\u001b[0m\n\u001b[0;32m----> 1\u001b[0;31m \u001b[0mos\u001b[0m\u001b[0;34m.\u001b[0m\u001b[0mlistdir\u001b[0m\u001b[0;34m(\u001b[0m\u001b[0;34m'../qa_retriever_evaluation'\u001b[0m\u001b[0;34m)\u001b[0m\u001b[0;34m\u001b[0m\u001b[0;34m\u001b[0m\u001b[0m\n\u001b[0m",
      "\u001b[0;31mFileNotFoundError\u001b[0m: [Errno 2] No such file or directory: '../qa_retriever_evaluation'"
     ]
    }
   ],
   "source": [
    "os.listdir('../qa_retriever_evaluation')"
   ]
  },
  {
   "cell_type": "code",
   "execution_count": 60,
   "metadata": {},
   "outputs": [
    {
     "data": {
      "text/plain": [
       "'/Users/areed/Documents/FFL Research/FF14/qa_retriever_evaluation/notebooks'"
      ]
     },
     "execution_count": 60,
     "metadata": {},
     "output_type": "execute_result"
    }
   ],
   "source": [
    "os.getcwd()"
   ]
  },
  {
   "cell_type": "code",
   "execution_count": 63,
   "metadata": {},
   "outputs": [
    {
     "data": {
      "text/plain": [
       "True"
      ]
     },
     "execution_count": 63,
     "metadata": {},
     "output_type": "execute_result"
    }
   ],
   "source": [
    "os.path.exists('/Users/areed/Documents/FFL Research/FF14/qa_retriever_evaluation/')"
   ]
  },
  {
   "cell_type": "code",
   "execution_count": null,
   "metadata": {},
   "outputs": [],
   "source": [
    "os.path.join()"
   ]
  }
 ],
 "metadata": {
  "kernelspec": {
   "display_name": "Python 3",
   "language": "python",
   "name": "python3"
  },
  "language_info": {
   "codemirror_mode": {
    "name": "ipython",
    "version": 3
   },
   "file_extension": ".py",
   "mimetype": "text/x-python",
   "name": "python",
   "nbconvert_exporter": "python",
   "pygments_lexer": "ipython3",
   "version": "3.8.3"
  }
 },
 "nbformat": 4,
 "nbformat_minor": 4
}
